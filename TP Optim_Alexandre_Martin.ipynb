{
 "cells": [
  {
   "cell_type": "markdown",
   "metadata": {},
   "source": [
    "M2 Mathématiques pour les Sciences du Vivant 2020/2021\n",
    "<br/> Alexandre Martin"
   ]
  },
  {
   "cell_type": "markdown",
   "metadata": {},
   "source": [
    "<div style=\"font-size:22pt; line-height:25pt; font-weight:bold; text-align:center;\">Identification de paramètres : \n",
    "    <br/>Application à des modèles épidémiologiques</div>\n",
    "\n",
    "\n",
    "\n",
    "1. [Un premier modèle épidémiologique (1927)](#first)\n",
    "2. [Modèles à compartiments pour modéliser la propagation du SARS-Cov-2](#second)\n",
    "3. [Données disponibles pour \"caler\" les paramètres des modèles](#third)\n",
    "4. [Identification des paramètres](#fourth)"
   ]
  },
  {
   "cell_type": "code",
   "execution_count": 1,
   "metadata": {},
   "outputs": [],
   "source": [
    "import numpy as np\n",
    "import matplotlib.pyplot as plt\n",
    "import pandas as pd"
   ]
  },
  {
   "cell_type": "markdown",
   "metadata": {},
   "source": [
    "# <a id=\"first\"></a> 1. Un premier modèle épidémiologique (1927) #"
   ]
  },
  {
   "cell_type": "markdown",
   "metadata": {},
   "source": [
    "### 1.1) EDO satisfaite par R ###"
   ]
  },
  {
   "cell_type": "markdown",
   "metadata": {},
   "source": [
    "Il vient :\n",
    "$$ \\frac{d(ln(S_t))}{dt} = \\frac{S'_t}{S_t} = -\\frac{\\beta}{P}I_t = -\\frac{\\beta}{P\\gamma}R'_t $$\n",
    "d'où l'on tire :\n",
    "$$ ln(\\frac{S_t}{S_0}) = -\\frac{\\beta}{P\\gamma}(R_t - R_0) $$\n",
    "puis ($R_0 = 0$) :\n",
    "$$ S_t = S_0exp(-\\frac{\\beta}{P\\gamma}R_t) $$\n",
    "Enfin comme :\n",
    "$$ R'_t = \\gamma I_t = \\gamma(P - S_t - R_t) $$\n",
    "on en déduit :\n",
    "$$ R'_t = \\gamma (P - S_0exp(-\\frac{\\beta}{P\\gamma}R_t ) - R_t) $$"
   ]
  },
  {
   "cell_type": "markdown",
   "metadata": {},
   "source": [
    "### 1.2) Implémentation et résolution du modèle SIR ###"
   ]
  },
  {
   "cell_type": "markdown",
   "metadata": {},
   "source": [
    "Mise en forme des paramètres :\n",
    "\n",
    "0. Population totale : $P$\n",
    "1. Taux de contagiosité : $\\gamma$\n",
    "2. Taux d'incidence : $\\beta$\n",
    "3. Nombre de personnes infectées à $t = 0$ : $I_0$\n",
    "4. Nombre de personnes rétablies ou décédées à $t = 0$ : $R_0$\n",
    "\n",
    "Les paramètres suivants se déduisent des précédents :\n",
    "\n",
    "5. Nombre de personnes saines à $t = 0$ : $S_0 = P - I_0 - R_0$\n",
    "6. Taux de reproduction (**changement de notation**) : $A_0 = \\frac{\\beta}{\\gamma}$"
   ]
  },
  {
   "cell_type": "markdown",
   "metadata": {},
   "source": [
    "#### Méthodes d'Euler et de Runge-Kutta ####"
   ]
  },
  {
   "cell_type": "code",
   "execution_count": 2,
   "metadata": {},
   "outputs": [],
   "source": [
    "### Modèle SIR pour le calcul de R\n",
    "\n",
    "def modele_SIR_R(t, y, p):\n",
    "    \n",
    "    # Récupération des paramètres\n",
    "    P, gamma, beta, I0, R0 = p[0], p[1], p[2], p[3], p[4]\n",
    "    S0 = P - I0 - R0\n",
    "    \n",
    "    # EDO vérifiée par R\n",
    "    return gamma*(P - S0*np.exp(-beta*y/(gamma*P)) - y)"
   ]
  },
  {
   "cell_type": "code",
   "execution_count": 3,
   "metadata": {},
   "outputs": [],
   "source": [
    "### Schéma d'Euler\n",
    "\n",
    "def Euler(f, t0, tf, y0, n, p):\n",
    "    \n",
    "    # Initialisation\n",
    "    y, t = y0, t0\n",
    "    pas = (tf - t0)/n\n",
    "    Y, T = np.array([y0]), np.array([t0])\n",
    "    \n",
    "    # Itérations\n",
    "    for k in range(n):\n",
    "        y, t = y + pas*f(t, y, p), t + pas\n",
    "        Y = np.append(Y, y)\n",
    "        T = np.append(T, t)\n",
    "    \n",
    "    return T, Y"
   ]
  },
  {
   "cell_type": "code",
   "execution_count": 4,
   "metadata": {},
   "outputs": [],
   "source": [
    "### Schéma de Runge-Kutta 4\n",
    "\n",
    "def RK4(f, t0, tf, y0, n, p):\n",
    "   \n",
    "    # Initialisation\n",
    "    y, t = y0, t0\n",
    "    pas = (tf - t0)/n\n",
    "    Y, T = np.array([y0]), np.array([t0])\n",
    "\n",
    "    # Itérations\n",
    "    for k in range(n):\n",
    "        p1 = f(t, y, p)\n",
    "        p2 = f(t + pas/2, y + pas*p1/2, p)\n",
    "        p3 = f(t + pas/2, y + pas*p2/2, p) \n",
    "        p4 = f(t + pas, y + pas*p3, p)\n",
    "        y, t = y + pas/6 * (p1 + 2*p2 + 2*p3 + p4), t + pas\n",
    "        Y = np.append(Y, y)\n",
    "        T = np.append(T, t)\n",
    "   \n",
    "    return T, Y"
   ]
  },
  {
   "cell_type": "markdown",
   "metadata": {},
   "source": [
    "#### Visualisation ####"
   ]
  },
  {
   "cell_type": "code",
   "execution_count": 5,
   "metadata": {},
   "outputs": [],
   "source": [
    "### Initialisation des paramètres \n",
    "\n",
    "# p = [P, gamma, beta, I0, R0]\n",
    "p = [1000, 0.0625, 0.1625, 1, 0]\n",
    "\n",
    "# Etude pour A0 < 1 :\n",
    "# p = [1000, 0.1625, 0.0625, 1, 0]\n",
    "\n",
    "R0 = p[4]\n",
    "T = 200\n",
    "n = 200 # nombre d'itérations (nombre de points = n+1)"
   ]
  },
  {
   "cell_type": "code",
   "execution_count": 6,
   "metadata": {},
   "outputs": [],
   "source": [
    "### Modélisation\n",
    "\n",
    "modele = modele_SIR_R\n",
    "\n",
    "t_Euler, R_Euler = Euler(modele, 0, T, R0, n, p)\n",
    "t_RK4, R_RK4 = RK4(modele, 0, T, R0, n, p)"
   ]
  },
  {
   "cell_type": "code",
   "execution_count": 7,
   "metadata": {},
   "outputs": [
    {
     "data": {
      "image/png": "[encoded data removed]",
      "text/plain": [
       "<Figure size 432x288 with 1 Axes>"
      ]
     },
     "metadata": {
      "needs_background": "light"
     },
     "output_type": "display_data"
    }
   ],
   "source": [
    "### Schémas d'Euler et RK4 pour R(t)\n",
    "\n",
    "plt.figure()\n",
    "\n",
    "plt.scatter(t_Euler, R_Euler, c=\"red\", label=\"méthode d'Euler\")\n",
    "plt.scatter(t_RK4, R_RK4, c=\"blue\", label=\"méthode RK4\")\n",
    "plt.title(\"Comparaison des schémas d'Euler et de Runge-Kutta 4 pour l'estimation de R(t)\")\n",
    "plt.xlabel(\"t\")\n",
    "plt.ylabel(\"R(t)\")\n",
    "plt.legend()\n",
    "\n",
    "plt.show()"
   ]
  },
  {
   "cell_type": "code",
   "execution_count": 8,
   "metadata": {},
   "outputs": [],
   "source": [
    "### Calcul de S(t) \n",
    "\n",
    "P, gamma, beta, I0, R0 = p[0], p[1], p[2], p[3], p[4]\n",
    "S0 = P - I0 - R0\n",
    "\n",
    "S_Euler = [S0*np.exp(-beta*y/(gamma*P)) for y in R_Euler]\n",
    "S_RK4 = [S0*np.exp(-beta*y/(gamma*P)) for y in R_RK4]"
   ]
  },
  {
   "cell_type": "code",
   "execution_count": 9,
   "metadata": {},
   "outputs": [
    {
     "data": {
      "image/png": "[encoded data removed]",
      "text/plain": [
       "<Figure size 432x288 with 1 Axes>"
      ]
     },
     "metadata": {
      "needs_background": "light"
     },
     "output_type": "display_data"
    }
   ],
   "source": [
    "### Schémas d'Euler et RK4 pour S(t)\n",
    "\n",
    "plt.figure()\n",
    "\n",
    "plt.scatter(t_Euler, S_Euler, c=\"red\", label=\"méthode d'Euler\")\n",
    "plt.scatter(t_RK4, S_RK4, c=\"blue\", label=\"méthode RK4\")\n",
    "plt.title(\"Comparaison des schémas d'Euler et de Runge-Kutta 4 pour l'estimation de S(t)\")\n",
    "plt.xlabel(\"t\")\n",
    "plt.ylabel(\"S(t)\")\n",
    "plt.legend()\n",
    "\n",
    "plt.show()"
   ]
  },
  {
   "cell_type": "code",
   "execution_count": 10,
   "metadata": {},
   "outputs": [],
   "source": [
    "### Calcul de I(t)\n",
    "\n",
    "# On construit I(t) par approximation de R'(t) sous forme d'un taux d'accroissement\n",
    "\n",
    "pas = T/(n-1)\n",
    "\n",
    "I_Euler = [I0]\n",
    "I_RK4 = [I0]\n",
    "\n",
    "for i in range(1, n+1):\n",
    "    I_Euler.append((R_Euler[i] - R_Euler[i-1])/(gamma*pas))\n",
    "    I_RK4.append((R_RK4[i] - R_RK4[i-1])/(gamma*pas))"
   ]
  },
  {
   "cell_type": "code",
   "execution_count": 11,
   "metadata": {},
   "outputs": [
    {
     "data": {
      "image/png": "[encoded data removed]",
      "text/plain": [
       "<Figure size 432x288 with 1 Axes>"
      ]
     },
     "metadata": {
      "needs_background": "light"
     },
     "output_type": "display_data"
    }
   ],
   "source": [
    "### Schémas d'Euler et RK4 pour I(t)\n",
    "\n",
    "plt.figure()\n",
    "\n",
    "plt.scatter(t_Euler, I_Euler, c=\"red\", label=\"méthode d'Euler\")\n",
    "plt.scatter(t_RK4, I_RK4, c=\"blue\", label=\"méthode RK4\")\n",
    "plt.title(\"Comparaison des schémas d'Euler et de Runge-Kutta 4 pour l'estimation de I(t)\")\n",
    "plt.xlabel(\"t\")\n",
    "plt.ylabel(\"I(t)\")\n",
    "plt.legend()\n",
    "\n",
    "plt.show()"
   ]
  },
  {
   "cell_type": "code",
   "execution_count": 12,
   "metadata": {},
   "outputs": [],
   "source": [
    "### Vérification P = constante\n",
    "PP = [P for t in t_Euler]\n",
    "\n",
    "P_Euler = [x+y+z for x, y, z in zip(R_Euler, S_Euler, I_Euler)]\n",
    "P_RK4 = [x+y+z for x, y, z in zip(R_RK4, S_RK4, I_RK4)]"
   ]
  },
  {
   "cell_type": "code",
   "execution_count": 13,
   "metadata": {},
   "outputs": [
    {
     "data": {
      "image/png": "[encoded data removed]",
      "text/plain": [
       "<Figure size 432x288 with 1 Axes>"
      ]
     },
     "metadata": {
      "needs_background": "light"
     },
     "output_type": "display_data"
    }
   ],
   "source": [
    "### Schémas d'Euler et RK4 pour P(t)\n",
    "\n",
    "plt.figure()\n",
    "\n",
    "plt.scatter(t_Euler, P_Euler, c=\"red\", label=\"méthode d'Euler\")\n",
    "plt.scatter(t_RK4, P_RK4, c=\"blue\", label=\"méthode RK4\")\n",
    "plt.plot(t_Euler, PP, c=\"green\", label=\"population = 1000\")\n",
    "plt.title(\"P(t) donné par les schémas d'Euler et de Runge-Kutta 4\")\n",
    "plt.xlabel(\"t\")\n",
    "plt.ylabel(\"P(t)\")\n",
    "plt.legend()\n",
    "\n",
    "plt.show()"
   ]
  },
  {
   "cell_type": "code",
   "execution_count": 14,
   "metadata": {},
   "outputs": [],
   "source": [
    "# Quand n est suffisamment grand, il semble y avoir :\n",
    "# 1) convergence des deux schémas l'un sur l'autre\n",
    "# 2) convergence de l'estimation de la population vers P = 1000 pour chaque schéma (la méthode RK4 converge cependant plus vite)"
   ]
  },
  {
   "cell_type": "code",
   "execution_count": 15,
   "metadata": {},
   "outputs": [],
   "source": [
    "# On remarque bien que lorsque A0 < 1, l'épidémie s'éteint dès les premères itérations"
   ]
  },
  {
   "cell_type": "markdown",
   "metadata": {},
   "source": [
    "#### Solution de référence ####"
   ]
  },
  {
   "cell_type": "code",
   "execution_count": 16,
   "metadata": {},
   "outputs": [],
   "source": [
    "### Initialisation des paramètres\n",
    "\n",
    "# p = [P, gamma, beta, I0, R0]\n",
    "p = [1000, 0.0625, 0.1625, 1, 0]\n",
    "R0 = p[4]\n",
    "T = 200\n",
    "n = 2**11 # nombre d'itérations (nombre de points = n+1)"
   ]
  },
  {
   "cell_type": "code",
   "execution_count": 17,
   "metadata": {},
   "outputs": [],
   "source": [
    "### Modélisation : solution de référence\n",
    "\n",
    "modele = modele_SIR_R\n",
    "\n",
    "t_ref_Euler, y_ref_Euler = Euler(modele, 0, T, R0, n, p)\n",
    "t_ref_RK4, y_ref_RK4 = RK4(modele, 0, T, R0, n, p)"
   ]
  },
  {
   "cell_type": "code",
   "execution_count": 18,
   "metadata": {},
   "outputs": [],
   "source": [
    "### Modélisation : solutions approchées et calcul des erreurs\n",
    "\n",
    "E_Euler, E_RK4 = [], []\n",
    "\n",
    "for i in range(3, 11):\n",
    "    t_Euler, y_Euler = Euler(modele, 0, T, R0, 2**i, p)\n",
    "    t_RK4, y_RK4 = RK4(modele, 0, T, R0, 2**i, p)\n",
    "    \n",
    "    e_Euler = 0\n",
    "    e_RK4 = 0\n",
    "    \n",
    "    for j in range(len(t_Euler) - 1):\n",
    "        if np.abs(y_Euler[j] - y_ref_Euler[j * 2**(11-i)]) > e_Euler:\n",
    "            e_Euler = np.abs(y_Euler[j] - y_ref_Euler[j * 2**(11-i)])\n",
    "        if np.abs(y_RK4[j] - y_ref_RK4[j * 2**(11-i)]) > e_RK4:\n",
    "            e_RK4 = np.abs(y_RK4[j] - y_ref_RK4[j * 2**(11-i)])\n",
    "            \n",
    "    E_Euler.append(e_Euler)\n",
    "    E_RK4.append(e_RK4)"
   ]
  },
  {
   "cell_type": "code",
   "execution_count": 19,
   "metadata": {},
   "outputs": [],
   "source": [
    "ln_pas = [np.log(200/2**i) for i in range(3, 11)]\n",
    "ln_E_Euler = [np.log(e) for e in E_Euler]\n",
    "ln_E_RK4 = [np.log(e) for e in E_RK4]"
   ]
  },
  {
   "cell_type": "code",
   "execution_count": 20,
   "metadata": {},
   "outputs": [
    {
     "data": {
      "image/png": "[encoded data removed]",
      "text/plain": [
       "<Figure size 432x288 with 1 Axes>"
      ]
     },
     "metadata": {
      "needs_background": "light"
     },
     "output_type": "display_data"
    }
   ],
   "source": [
    "### Tracé du log de l'erreur en fonction du log du pas pour Euler\n",
    "\n",
    "plt.figure()\n",
    "\n",
    "plt.scatter(ln_pas, ln_E_Euler, c=\"red\", label=\"méthode d'Euler\")\n",
    "plt.title(\"Tracé du log de l'erreur en fonction du log du pas pour le schéma d'Euler\")\n",
    "plt.xlabel(\"ln(pas)\")\n",
    "plt.ylabel(\"ln(erreur)\")\n",
    "plt.legend()\n",
    "\n",
    "plt.show()"
   ]
  },
  {
   "cell_type": "code",
   "execution_count": 21,
   "metadata": {},
   "outputs": [
    {
     "data": {
      "image/png": "[encoded data removed]",
      "text/plain": [
       "<Figure size 432x288 with 1 Axes>"
      ]
     },
     "metadata": {
      "needs_background": "light"
     },
     "output_type": "display_data"
    }
   ],
   "source": [
    "### Tracé du log de l'erreur en fonction du log du pas pour RK4\n",
    "\n",
    "plt.figure()\n",
    "\n",
    "plt.scatter(ln_pas, ln_E_RK4, c=\"blue\", label=\"méthode RK4\")\n",
    "plt.title(\"Tracé du log de l'erreur en fonction du log du pas pour le schéma de Runge-Kutta 4\")\n",
    "plt.xlabel(\"ln(pas)\")\n",
    "plt.ylabel(\"ln(erreur)\")\n",
    "plt.legend()\n",
    "\n",
    "plt.show()"
   ]
  },
  {
   "cell_type": "code",
   "execution_count": 22,
   "metadata": {},
   "outputs": [],
   "source": [
    "# On obtient bien un ordre de précision 1 pour Euler, 4 pour Runge-Kutta"
   ]
  },
  {
   "cell_type": "markdown",
   "metadata": {},
   "source": [
    "### 1.3) Comparaison avec de vraies données ###"
   ]
  },
  {
   "cell_type": "code",
   "execution_count": 23,
   "metadata": {},
   "outputs": [],
   "source": [
    "### Données de l'épidémie de peste de Bombay (1905 - 1906) pour I(t)\n",
    "\n",
    "data = np.array([\n",
    "    [0,8], [1,10], [2,12], [3,16], [4,24], [5,48], [6,51], [7,92], [8,124],\n",
    "    [9,178], [10,280], [11,387], [12,442], [13,644], [14,779], [15,702],\n",
    "    [16,695], [17,870], [18,925], [19,802], [20,578], [21,404],\n",
    "    [22,296], [23,162], [24,106], [25,64], [26,46], [27,35], [28,27],\n",
    "    [29,28], [30,24]\n",
    "])"
   ]
  },
  {
   "cell_type": "code",
   "execution_count": 24,
   "metadata": {},
   "outputs": [
    {
     "data": {
      "image/png": "[encoded data removed]",
      "text/plain": [
       "<Figure size 432x288 with 1 Axes>"
      ]
     },
     "metadata": {
      "needs_background": "light"
     },
     "output_type": "display_data"
    }
   ],
   "source": [
    "### Tracé des décès\n",
    "\n",
    "plt.figure()\n",
    "\n",
    "plt.scatter(data[:,0], data[:,1], c=\"blue\", label=\"décès constatés par semaine\")\n",
    "plt.title(\"Evolution du nombre de décès\")\n",
    "plt.xlabel(\"t\")\n",
    "plt.ylabel(\"décès\")\n",
    "plt.legend()\n",
    "\n",
    "plt.show()"
   ]
  },
  {
   "cell_type": "code",
   "execution_count": 25,
   "metadata": {},
   "outputs": [],
   "source": [
    "### Conversion vers R(t)\n",
    "\n",
    "proportion_morts = 0.85\n",
    "\n",
    "data1 = data.copy()\n",
    "\n",
    "for i in range(len(data1)):\n",
    "    s = 0\n",
    "    for j in range(i):\n",
    "        s += data[j][1]\n",
    "    data1[i][1] = s/proportion_morts   "
   ]
  },
  {
   "cell_type": "code",
   "execution_count": 26,
   "metadata": {},
   "outputs": [
    {
     "data": {
      "image/png": "[encoded data removed]",
      "text/plain": [
       "<Figure size 432x288 with 1 Axes>"
      ]
     },
     "metadata": {
      "needs_background": "light"
     },
     "output_type": "display_data"
    }
   ],
   "source": [
    "### Tracé de R(t) (semaine)\n",
    "\n",
    "plt.figure()\n",
    "\n",
    "plt.scatter(data1[:,0], data1[:,1], c=\"red\", label=\"décès cumulés par semaine\")\n",
    "plt.title(\"Evolution du nombre cumulé d'infectés\")\n",
    "plt.xlabel(\"t (en semaine)\")\n",
    "plt.ylabel(\"R(t)\")\n",
    "plt.legend()\n",
    "\n",
    "plt.show()"
   ]
  },
  {
   "cell_type": "code",
   "execution_count": 27,
   "metadata": {},
   "outputs": [],
   "source": [
    "### Conversion semaines vers jours\n",
    "\n",
    "data1[:,0] = 7*data1[:,0]"
   ]
  },
  {
   "cell_type": "code",
   "execution_count": 28,
   "metadata": {},
   "outputs": [
    {
     "data": {
      "image/png": "[encoded data removed]",
      "text/plain": [
       "<Figure size 432x288 with 1 Axes>"
      ]
     },
     "metadata": {
      "needs_background": "light"
     },
     "output_type": "display_data"
    }
   ],
   "source": [
    "### Tracé de R(t) (jours)\n",
    "\n",
    "plt.figure()\n",
    "\n",
    "plt.scatter(data1[:,0], data1[:,1], c=\"red\", label=\"décès cumulés par semaine\")\n",
    "plt.title(\"Evolution du nombre cumulé d'infectés\")\n",
    "plt.xlabel(\"t (en jours)\")\n",
    "plt.ylabel(\"R(t)\")\n",
    "plt.legend()\n",
    "\n",
    "plt.show()"
   ]
  },
  {
   "cell_type": "code",
   "execution_count": 29,
   "metadata": {},
   "outputs": [
    {
     "name": "stdout",
     "output_type": "stream",
     "text": [
      "31\n"
     ]
    }
   ],
   "source": [
    "### Nombre de points disponibles pour les données réelles\n",
    "\n",
    "print(len(data1))"
   ]
  },
  {
   "cell_type": "code",
   "execution_count": 30,
   "metadata": {},
   "outputs": [],
   "source": [
    "### Nombre de points utilisés pour simuler les courbes SIR\n",
    "\n",
    "n = 100*30"
   ]
  },
  {
   "cell_type": "code",
   "execution_count": 31,
   "metadata": {},
   "outputs": [],
   "source": [
    "### Définition de l'erreur quadratique\n",
    "\n",
    "def erreur_quad(data_ref, data_sim):\n",
    "    e = 0\n",
    "    facteur = int((len(data_sim) - 1)/(len(data_ref) - 1))\n",
    "    \n",
    "    for i in range(len(data_ref)):\n",
    "        e += (data_ref[i] - data_sim[facteur*i])**2\n",
    "        \n",
    "    return(np.sqrt(e))"
   ]
  },
  {
   "cell_type": "code",
   "execution_count": 32,
   "metadata": {},
   "outputs": [],
   "source": [
    "### Données\n",
    "\n",
    "P = 16961\n",
    "I0 = 1\n",
    "R0 = 0"
   ]
  },
  {
   "cell_type": "code",
   "execution_count": 33,
   "metadata": {},
   "outputs": [
    {
     "name": "stdout",
     "output_type": "stream",
     "text": [
      "[1216.8629354724287, 0.1346, 0.20850000000000002]\n"
     ]
    },
    {
     "data": {
      "image/png": "[encoded data removed]",
      "text/plain": [
       "<Figure size 432x288 with 1 Axes>"
      ]
     },
     "metadata": {
      "needs_background": "light"
     },
     "output_type": "display_data"
    }
   ],
   "source": [
    "################### PEUT METTRE DU TEMPS A TOURNER ############################################\n",
    "###############################################################################################\n",
    "\n",
    "### Recherche des paramètres qui minimisent l'erreur\n",
    "\n",
    "# Initialisation de l'erreur \n",
    "E = erreur_quad(data1[:, 1], np.zeros(31))\n",
    "\n",
    "# Listes des valeurs des paramètres testées\n",
    "# Etape 1\n",
    "# GAMMA = [i*10**-2 for i in range(1,100)]\n",
    "# BETA = [i*10**-2 for i in range(1,100)]\n",
    "# best = [2907, 0.13, 0.2]\n",
    "# Etape 2\n",
    "# GAMMA = [i*10**-3 for i in range(120, 140)]\n",
    "# BETA = [i*10**-3 for i in range(190, 210)]\n",
    "# best = [1217, 0.135, 0.209]\n",
    "# Etape 3\n",
    "GAMMA = [i*10**-4 for i in range(1340, 1360)]\n",
    "BETA = [i*10**-4 for i in range(2080, 2100)]\n",
    "\n",
    "\n",
    "# Minimisation de l'erreur\n",
    "for gamma in GAMMA:\n",
    "    for beta in BETA:\n",
    "        \n",
    "        if beta > gamma: # pour gagner du temps de calcul on ne teste que les paramètres donnant A0 > 1\n",
    "        \n",
    "            p = [P, gamma, beta, I0, R0]\n",
    "        \n",
    "            modele = modele_SIR_R\n",
    "            t_RK4, y_RK4 = RK4(modele, 0, len(data)*7, R0, n, p) # facteur 7 pour la conversion semaine/jour\n",
    "        \n",
    "            plt.plot(t_RK4, y_RK4)\n",
    "        \n",
    "            err = erreur_quad(data1[:,1], y_RK4)\n",
    "        \n",
    "            if err < E:\n",
    "                E = err\n",
    "                beta_sim = beta\n",
    "                gamma_sim = gamma\n",
    "\n",
    "print([E, gamma_sim, beta_sim]) "
   ]
  },
  {
   "cell_type": "code",
   "execution_count": 34,
   "metadata": {},
   "outputs": [],
   "source": [
    "# On s'arrête à l'étape 3 car le gain sur l'erreur n'est plus significatif "
   ]
  },
  {
   "cell_type": "code",
   "execution_count": 35,
   "metadata": {},
   "outputs": [
    {
     "data": {
      "text/plain": [
       "<matplotlib.legend.Legend at 0x21384e5f708>"
      ]
     },
     "execution_count": 35,
     "metadata": {},
     "output_type": "execute_result"
    },
    {
     "data": {
      "image/png": "[encoded data removed]",
      "text/plain": [
       "<Figure size 432x288 with 1 Axes>"
      ]
     },
     "metadata": {
      "needs_background": "light"
     },
     "output_type": "display_data"
    }
   ],
   "source": [
    "### Comparaison visuelle modèle/données\n",
    "\n",
    "p = [P, gamma_sim, beta_sim, I0, R0]\n",
    "modele = modele_SIR_R\n",
    "schema = RK4(modele, 0, len(data)*7, R0, n, p)\n",
    "\n",
    "plt.plot(schema[0], schema[1], c=\"blue\", label=\"modèle\")\n",
    "plt.scatter(data1[:,0], data1[:,1], c=\"red\", label=\"données\")\n",
    "plt.title(\"Modélisation du nombre cumulé d'infectés\")\n",
    "plt.xlabel(\"t (en jours)\")\n",
    "plt.ylabel(\"R(t)\")\n",
    "plt.legend()"
   ]
  },
  {
   "cell_type": "code",
   "execution_count": 36,
   "metadata": {},
   "outputs": [
    {
     "name": "stdout",
     "output_type": "stream",
     "text": [
      "gamma estimé =  0.1346\n",
      "beta estimé =  0.2085\n"
     ]
    }
   ],
   "source": [
    "print(\"gamma estimé = \", gamma_sim)\n",
    "print(\"beta estimé = \", round(beta_sim, 4))"
   ]
  },
  {
   "cell_type": "markdown",
   "metadata": {},
   "source": [
    "# <a id=\"second\"></a> 2. Modèles à compartiments pour modéliser la propagation du SARS-Cov-2 #"
   ]
  },
  {
   "cell_type": "markdown",
   "metadata": {},
   "source": [
    "### Modèles SEIR et SEIRD ###"
   ]
  },
  {
   "cell_type": "code",
   "execution_count": 37,
   "metadata": {},
   "outputs": [],
   "source": [
    "### Modèle SEIR \n",
    "\n",
    "def modele_SEIR(t, y, p):\n",
    "    \n",
    "    # Récupération des paramètres\n",
    "    P, gamma, beta, I0, R0, alpha, E0 = p[0], p[1], p[2], p[3], p[4], p[5], p[6]\n",
    "    S0 = P - I0 - R0 - E0\n",
    "    \n",
    "    # Réécriture de y\n",
    "    S, E, I, R = y[0], y[1], y[2], y[3]\n",
    "    \n",
    "    # EDO vérifiée par y\n",
    "    return np.array([-beta*S*I/P, beta*S*I/P - alpha*E, alpha*E - gamma*I, gamma*I])"
   ]
  },
  {
   "cell_type": "code",
   "execution_count": 38,
   "metadata": {},
   "outputs": [],
   "source": [
    "### Modèle SEIRD\n",
    "\n",
    "def modele_SEIRD(t, y, p):\n",
    "    \n",
    "    # Récupération des paramètres\n",
    "    P, gamma, beta, I0, R0, alpha, E0, delta, D0 = p[0], p[1], p[2], p[3], p[4], p[5], p[6], p[7], p[8]\n",
    "    S0 = P - I0 - R0 - E0 - D0\n",
    "    \n",
    "    # Réécriture de y\n",
    "    S, E, I, R, D = y[0], y[1], y[2], y[3], y[4]\n",
    "    \n",
    "    # EDO vérifiée par y\n",
    "    return np.array([-beta*S*I/P, beta*S*I/P - alpha*E, alpha*E - gamma*I, (1 - delta)*gamma*I, delta*gamma*I])"
   ]
  },
  {
   "cell_type": "markdown",
   "metadata": {},
   "source": [
    "### Test et visualisation du modèle SEIR ###"
   ]
  },
  {
   "cell_type": "code",
   "execution_count": 39,
   "metadata": {},
   "outputs": [],
   "source": [
    "### Initialisation des paramètres \n",
    "\n",
    "# p = [P, gamma, beta, I0, R0, alpha, E0]\n",
    "p = [1000, 0.0625, 0.1625, 1, 0, 0.0625, 0]\n",
    "\n",
    "y0 = np.array([p[0], p[6], p[3], p[4]])\n",
    "T = 400\n",
    "n = 40 # nombre d'itérations (nombre de points = n+1)"
   ]
  },
  {
   "cell_type": "code",
   "execution_count": 40,
   "metadata": {},
   "outputs": [],
   "source": [
    "### Modélisation\n",
    "\n",
    "modele = modele_SEIR\n",
    "\n",
    "t_Euler, y_Euler = Euler(modele, 0, T, y0, n, p)\n",
    "t_RK4, y_RK4 = RK4(modele, 0, T, y0, n, p)"
   ]
  },
  {
   "cell_type": "code",
   "execution_count": 41,
   "metadata": {},
   "outputs": [],
   "source": [
    "### Remise en forme des solutions\n",
    "\n",
    "y_Euler = np.reshape(y_Euler, (n+1, 4))\n",
    "y_RK4 = np.reshape(y_RK4, (n+1, 4))"
   ]
  },
  {
   "cell_type": "code",
   "execution_count": 42,
   "metadata": {},
   "outputs": [],
   "source": [
    "### Calcul de la population estimée par les modèles\n",
    "\n",
    "Pop_Euler = y_Euler[:,0] + y_Euler[:,1] + y_Euler[:,2] + y_Euler[:,3]\n",
    "Pop_RK4 = y_RK4[:,0] + y_RK4[:,1] + y_RK4[:,2] + y_RK4[:,3]"
   ]
  },
  {
   "cell_type": "code",
   "execution_count": 43,
   "metadata": {},
   "outputs": [
    {
     "data": {
      "image/png": "[encoded data removed]",
      "text/plain": [
       "<Figure size 432x288 with 1 Axes>"
      ]
     },
     "metadata": {
      "needs_background": "light"
     },
     "output_type": "display_data"
    }
   ],
   "source": [
    "### Schéma d'Euler\n",
    "\n",
    "plt.figure()\n",
    "\n",
    "plt.scatter(t_Euler, y_Euler[:,0], c=\"red\", label=\"S(t)\")\n",
    "plt.scatter(t_Euler, y_Euler[:,1], c=\"blue\", label=\"E(t)\")\n",
    "plt.scatter(t_Euler, y_Euler[:,2], c=\"green\", label=\"I(t)\")\n",
    "plt.scatter(t_Euler, y_Euler[:,3], c=\"yellow\", label=\"R(t)\")\n",
    "plt.scatter(t_Euler, Pop_Euler, c=\"black\", label=\"Population\")\n",
    "plt.title(\"Schéma d'Euler pour le modèle SEIR\")\n",
    "plt.xlabel(\"t\")\n",
    "plt.ylabel(\"R(t)\")\n",
    "plt.legend()\n",
    "\n",
    "plt.show()"
   ]
  },
  {
   "cell_type": "code",
   "execution_count": 44,
   "metadata": {},
   "outputs": [
    {
     "data": {
      "image/png": "[encoded data removed]",
      "text/plain": [
       "<Figure size 432x288 with 1 Axes>"
      ]
     },
     "metadata": {
      "needs_background": "light"
     },
     "output_type": "display_data"
    }
   ],
   "source": [
    "### Schéma de Runge-Kutta 4\n",
    "\n",
    "plt.figure()\n",
    "\n",
    "plt.scatter(t_Euler, y_RK4[:,0], c=\"red\", label=\"S(t)\")\n",
    "plt.scatter(t_Euler, y_RK4[:,1], c=\"blue\", label=\"E(t)\")\n",
    "plt.scatter(t_Euler, y_RK4[:,2], c=\"green\", label=\"I(t)\")\n",
    "plt.scatter(t_Euler, y_RK4[:,3], c=\"yellow\", label=\"R(t)\")\n",
    "plt.scatter(t_Euler, Pop_RK4, c=\"black\", label=\"Population\")\n",
    "plt.title(\"Schéma de Runge-Kutta 4 pour le modèle SEIR\")\n",
    "plt.xlabel(\"t\")\n",
    "plt.ylabel(\"R(t)\")\n",
    "plt.legend()\n",
    "\n",
    "plt.show()"
   ]
  },
  {
   "cell_type": "markdown",
   "metadata": {},
   "source": [
    "### Test et visualisation du modèle SEIRD ###"
   ]
  },
  {
   "cell_type": "code",
   "execution_count": 45,
   "metadata": {},
   "outputs": [],
   "source": [
    "### Initialisation des paramètres \n",
    "\n",
    "# p = [P, gamma, beta, I0, R0, alpha, E0, delta, D0]\n",
    "p = [1000, 0.0625, 0.1625, 1, 0, 0.0625, 0, 0.1, 0]\n",
    "\n",
    "y0 = np.array([p[0], p[6], p[3], p[4], p[8]])\n",
    "T = 400\n",
    "n = 40 # nombre d'itérations (nombre de points = n+1)"
   ]
  },
  {
   "cell_type": "code",
   "execution_count": 46,
   "metadata": {},
   "outputs": [],
   "source": [
    "### Modélisation\n",
    "\n",
    "modele = modele_SEIRD\n",
    "\n",
    "t_Euler, y_Euler = Euler(modele, 0, T, y0, n, p)\n",
    "t_RK4, y_RK4 = RK4(modele, 0, T, y0, n, p)"
   ]
  },
  {
   "cell_type": "code",
   "execution_count": 47,
   "metadata": {},
   "outputs": [],
   "source": [
    "### Remise en forme des solutions\n",
    "\n",
    "y_Euler = np.reshape(y_Euler, (n+1, 5))\n",
    "y_RK4 = np.reshape(y_RK4, (n+1, 5))"
   ]
  },
  {
   "cell_type": "code",
   "execution_count": 48,
   "metadata": {},
   "outputs": [],
   "source": [
    "### Calcul de la population estimée par les modèles\n",
    "\n",
    "Pop_Euler = y_Euler[:,0] + y_Euler[:,1] + y_Euler[:,2] + y_Euler[:,3] + y_Euler[:,4]\n",
    "Pop_RK4 = y_RK4[:,0] + y_RK4[:,1] + y_RK4[:,2] + y_RK4[:,3] + y_Euler[:,4]"
   ]
  },
  {
   "cell_type": "code",
   "execution_count": 49,
   "metadata": {},
   "outputs": [
    {
     "data": {
      "image/png": "[encoded data removed]",
      "text/plain": [
       "<Figure size 432x288 with 1 Axes>"
      ]
     },
     "metadata": {
      "needs_background": "light"
     },
     "output_type": "display_data"
    }
   ],
   "source": [
    "### Schéma d'Euler\n",
    "\n",
    "plt.figure()\n",
    "\n",
    "plt.scatter(t_Euler, y_Euler[:,0], c=\"red\", label=\"S(t)\")\n",
    "plt.scatter(t_Euler, y_Euler[:,1], c=\"blue\", label=\"E(t)\")\n",
    "plt.scatter(t_Euler, y_Euler[:,2], c=\"green\", label=\"I(t)\")\n",
    "plt.scatter(t_Euler, y_Euler[:,3], c=\"yellow\", label=\"R(t)\")\n",
    "plt.scatter(t_Euler, y_Euler[:,4], c=\"purple\", label=\"D(t)\")\n",
    "plt.scatter(t_Euler, Pop_Euler, c=\"black\", label=\"Population\")\n",
    "plt.title(\"Schéma d'Euler pour le modèle SEIRD\")\n",
    "plt.xlabel(\"t\")\n",
    "plt.ylabel(\"R(t)\")\n",
    "plt.legend()\n",
    "\n",
    "plt.show()"
   ]
  },
  {
   "cell_type": "code",
   "execution_count": 50,
   "metadata": {},
   "outputs": [
    {
     "data": {
      "image/png": "[encoded data removed]",
      "text/plain": [
       "<Figure size 432x288 with 1 Axes>"
      ]
     },
     "metadata": {
      "needs_background": "light"
     },
     "output_type": "display_data"
    }
   ],
   "source": [
    "### Schéma de Runge-Kutta 4\n",
    "\n",
    "plt.figure()\n",
    "\n",
    "plt.scatter(t_Euler, y_RK4[:,0], c=\"red\", label=\"S(t)\")\n",
    "plt.scatter(t_Euler, y_RK4[:,1], c=\"blue\", label=\"E(t)\")\n",
    "plt.scatter(t_Euler, y_RK4[:,2], c=\"green\", label=\"I(t)\")\n",
    "plt.scatter(t_Euler, y_RK4[:,3], c=\"yellow\", label=\"R(t)\")\n",
    "plt.scatter(t_Euler, y_RK4[:,4], c=\"purple\", label=\"D(t)\")\n",
    "plt.scatter(t_Euler, Pop_RK4, c=\"black\", label=\"Population\")\n",
    "plt.title(\"Schéma de Runge-Kutta 4 pour le modèle SEIRD\")\n",
    "plt.xlabel(\"t\")\n",
    "plt.ylabel(\"R(t)\")\n",
    "plt.legend()\n",
    "\n",
    "plt.show()"
   ]
  },
  {
   "cell_type": "markdown",
   "metadata": {},
   "source": [
    "# <a id=\"third\"></a> 3. Données disponibles pour \"caler\" les paramètres des modèles #"
   ]
  },
  {
   "cell_type": "markdown",
   "metadata": {},
   "source": [
    "### 3.1) Données françaises ###"
   ]
  },
  {
   "cell_type": "markdown",
   "metadata": {},
   "source": [
    "#### Exploration des données ####"
   ]
  },
  {
   "cell_type": "code",
   "execution_count": 51,
   "metadata": {},
   "outputs": [],
   "source": [
    "### Récupération des données\n",
    "\n",
    "data_fra = pd.read_csv(\"data-fra.csv\")"
   ]
  },
  {
   "cell_type": "code",
   "execution_count": 52,
   "metadata": {},
   "outputs": [
    {
     "data": {
      "text/html": [
       "<div>\n",
       "<style scoped>\n",
       "    .dataframe tbody tr th:only-of-type {\n",
       "        vertical-align: middle;\n",
       "    }\n",
       "\n",
       "    .dataframe tbody tr th {\n",
       "        vertical-align: top;\n",
       "    }\n",
       "\n",
       "    .dataframe thead th {\n",
       "        text-align: right;\n",
       "    }\n",
       "</style>\n",
       "<table border=\"1\" class=\"dataframe\">\n",
       "  <thead>\n",
       "    <tr style=\"text-align: right;\">\n",
       "      <th></th>\n",
       "      <th>date</th>\n",
       "      <th>total_cas_confirmes</th>\n",
       "      <th>total_deces_hopital</th>\n",
       "      <th>total_deces_ehpad</th>\n",
       "      <th>total_cas_confirmes_ehpad</th>\n",
       "      <th>total_cas_possibles_ehpad</th>\n",
       "      <th>patients_reanimation</th>\n",
       "      <th>patients_hospitalises</th>\n",
       "      <th>total_patients_gueris</th>\n",
       "      <th>nouveaux_patients_hospitalises</th>\n",
       "      <th>nouveaux_patients_reanimation</th>\n",
       "    </tr>\n",
       "  </thead>\n",
       "  <tbody>\n",
       "    <tr>\n",
       "      <th>0</th>\n",
       "      <td>2020-03-02</td>\n",
       "      <td>191</td>\n",
       "      <td>3</td>\n",
       "      <td>NaN</td>\n",
       "      <td>NaN</td>\n",
       "      <td>NaN</td>\n",
       "      <td>NaN</td>\n",
       "      <td>NaN</td>\n",
       "      <td>NaN</td>\n",
       "      <td>NaN</td>\n",
       "      <td>NaN</td>\n",
       "    </tr>\n",
       "    <tr>\n",
       "      <th>1</th>\n",
       "      <td>2020-03-03</td>\n",
       "      <td>212</td>\n",
       "      <td>4</td>\n",
       "      <td>NaN</td>\n",
       "      <td>NaN</td>\n",
       "      <td>NaN</td>\n",
       "      <td>NaN</td>\n",
       "      <td>NaN</td>\n",
       "      <td>12.0</td>\n",
       "      <td>NaN</td>\n",
       "      <td>NaN</td>\n",
       "    </tr>\n",
       "    <tr>\n",
       "      <th>2</th>\n",
       "      <td>2020-03-04</td>\n",
       "      <td>285</td>\n",
       "      <td>4</td>\n",
       "      <td>NaN</td>\n",
       "      <td>NaN</td>\n",
       "      <td>NaN</td>\n",
       "      <td>15.0</td>\n",
       "      <td>NaN</td>\n",
       "      <td>NaN</td>\n",
       "      <td>NaN</td>\n",
       "      <td>NaN</td>\n",
       "    </tr>\n",
       "    <tr>\n",
       "      <th>3</th>\n",
       "      <td>2020-03-05</td>\n",
       "      <td>423</td>\n",
       "      <td>7</td>\n",
       "      <td>NaN</td>\n",
       "      <td>NaN</td>\n",
       "      <td>NaN</td>\n",
       "      <td>23.0</td>\n",
       "      <td>NaN</td>\n",
       "      <td>NaN</td>\n",
       "      <td>NaN</td>\n",
       "      <td>NaN</td>\n",
       "    </tr>\n",
       "    <tr>\n",
       "      <th>4</th>\n",
       "      <td>2020-03-06</td>\n",
       "      <td>613</td>\n",
       "      <td>9</td>\n",
       "      <td>NaN</td>\n",
       "      <td>NaN</td>\n",
       "      <td>NaN</td>\n",
       "      <td>39.0</td>\n",
       "      <td>NaN</td>\n",
       "      <td>NaN</td>\n",
       "      <td>NaN</td>\n",
       "      <td>NaN</td>\n",
       "    </tr>\n",
       "  </tbody>\n",
       "</table>\n",
       "</div>"
      ],
      "text/plain": [
       "         date  total_cas_confirmes  total_deces_hopital  total_deces_ehpad  \\\n",
       "0  2020-03-02                  191                    3                NaN   \n",
       "1  2020-03-03                  212                    4                NaN   \n",
       "2  2020-03-04                  285                    4                NaN   \n",
       "3  2020-03-05                  423                    7                NaN   \n",
       "4  2020-03-06                  613                    9                NaN   \n",
       "\n",
       "   total_cas_confirmes_ehpad  total_cas_possibles_ehpad  patients_reanimation  \\\n",
       "0                        NaN                        NaN                   NaN   \n",
       "1                        NaN                        NaN                   NaN   \n",
       "2                        NaN                        NaN                  15.0   \n",
       "3                        NaN                        NaN                  23.0   \n",
       "4                        NaN                        NaN                  39.0   \n",
       "\n",
       "   patients_hospitalises  total_patients_gueris  \\\n",
       "0                    NaN                    NaN   \n",
       "1                    NaN                   12.0   \n",
       "2                    NaN                    NaN   \n",
       "3                    NaN                    NaN   \n",
       "4                    NaN                    NaN   \n",
       "\n",
       "   nouveaux_patients_hospitalises  nouveaux_patients_reanimation  \n",
       "0                             NaN                            NaN  \n",
       "1                             NaN                            NaN  \n",
       "2                             NaN                            NaN  \n",
       "3                             NaN                            NaN  \n",
       "4                             NaN                            NaN  "
      ]
     },
     "execution_count": 52,
     "metadata": {},
     "output_type": "execute_result"
    }
   ],
   "source": [
    "data_fra.head()"
   ]
  },
  {
   "cell_type": "code",
   "execution_count": 53,
   "metadata": {},
   "outputs": [
    {
     "data": {
      "text/plain": [
       "Index(['date', 'total_cas_confirmes', 'total_deces_hopital',\n",
       "       'total_deces_ehpad', 'total_cas_confirmes_ehpad',\n",
       "       'total_cas_possibles_ehpad', 'patients_reanimation',\n",
       "       'patients_hospitalises', 'total_patients_gueris',\n",
       "       'nouveaux_patients_hospitalises', 'nouveaux_patients_reanimation'],\n",
       "      dtype='object')"
      ]
     },
     "execution_count": 53,
     "metadata": {},
     "output_type": "execute_result"
    }
   ],
   "source": [
    "data_fra.columns"
   ]
  },
  {
   "cell_type": "code",
   "execution_count": 54,
   "metadata": {},
   "outputs": [
    {
     "data": {
      "text/html": [
       "<div>\n",
       "<style scoped>\n",
       "    .dataframe tbody tr th:only-of-type {\n",
       "        vertical-align: middle;\n",
       "    }\n",
       "\n",
       "    .dataframe tbody tr th {\n",
       "        vertical-align: top;\n",
       "    }\n",
       "\n",
       "    .dataframe thead th {\n",
       "        text-align: right;\n",
       "    }\n",
       "</style>\n",
       "<table border=\"1\" class=\"dataframe\">\n",
       "  <thead>\n",
       "    <tr style=\"text-align: right;\">\n",
       "      <th></th>\n",
       "      <th>total_cas_confirmes</th>\n",
       "      <th>total_deces_hopital</th>\n",
       "      <th>total_deces_ehpad</th>\n",
       "      <th>total_cas_confirmes_ehpad</th>\n",
       "      <th>total_cas_possibles_ehpad</th>\n",
       "      <th>patients_reanimation</th>\n",
       "      <th>patients_hospitalises</th>\n",
       "      <th>total_patients_gueris</th>\n",
       "      <th>nouveaux_patients_hospitalises</th>\n",
       "      <th>nouveaux_patients_reanimation</th>\n",
       "    </tr>\n",
       "  </thead>\n",
       "  <tbody>\n",
       "    <tr>\n",
       "      <th>count</th>\n",
       "      <td>2.790000e+02</td>\n",
       "      <td>279.000000</td>\n",
       "      <td>249.000000</td>\n",
       "      <td>237.000000</td>\n",
       "      <td>15.000000</td>\n",
       "      <td>272.000000</td>\n",
       "      <td>264.000000</td>\n",
       "      <td>264.000000</td>\n",
       "      <td>259.000000</td>\n",
       "      <td>259.000000</td>\n",
       "    </tr>\n",
       "    <tr>\n",
       "      <th>mean</th>\n",
       "      <td>5.901069e+05</td>\n",
       "      <td>19302.075269</td>\n",
       "      <td>10917.895582</td>\n",
       "      <td>53694.827004</td>\n",
       "      <td>35228.000000</td>\n",
       "      <td>2259.977941</td>\n",
       "      <td>15905.087121</td>\n",
       "      <td>84996.537879</td>\n",
       "      <td>1019.567568</td>\n",
       "      <td>159.239382</td>\n",
       "    </tr>\n",
       "    <tr>\n",
       "      <th>std</th>\n",
       "      <td>7.493570e+05</td>\n",
       "      <td>9633.787722</td>\n",
       "      <td>3050.378736</td>\n",
       "      <td>30073.365516</td>\n",
       "      <td>5673.218474</td>\n",
       "      <td>1918.351610</td>\n",
       "      <td>9990.378497</td>\n",
       "      <td>43109.238650</td>\n",
       "      <td>1007.977243</td>\n",
       "      <td>170.077743</td>\n",
       "    </tr>\n",
       "    <tr>\n",
       "      <th>min</th>\n",
       "      <td>1.910000e+02</td>\n",
       "      <td>3.000000</td>\n",
       "      <td>371.000000</td>\n",
       "      <td>11958.000000</td>\n",
       "      <td>25230.000000</td>\n",
       "      <td>15.000000</td>\n",
       "      <td>400.000000</td>\n",
       "      <td>12.000000</td>\n",
       "      <td>23.000000</td>\n",
       "      <td>2.000000</td>\n",
       "    </tr>\n",
       "    <tr>\n",
       "      <th>25%</th>\n",
       "      <td>1.392910e+05</td>\n",
       "      <td>16731.000000</td>\n",
       "      <td>10350.000000</td>\n",
       "      <td>37599.000000</td>\n",
       "      <td>32238.500000</td>\n",
       "      <td>630.250000</td>\n",
       "      <td>6402.750000</td>\n",
       "      <td>63732.000000</td>\n",
       "      <td>170.500000</td>\n",
       "      <td>25.000000</td>\n",
       "    </tr>\n",
       "    <tr>\n",
       "      <th>50%</th>\n",
       "      <td>1.838040e+05</td>\n",
       "      <td>19708.000000</td>\n",
       "      <td>10511.000000</td>\n",
       "      <td>39930.000000</td>\n",
       "      <td>37379.000000</td>\n",
       "      <td>1513.000000</td>\n",
       "      <td>12587.500000</td>\n",
       "      <td>82565.000000</td>\n",
       "      <td>649.000000</td>\n",
       "      <td>101.000000</td>\n",
       "    </tr>\n",
       "    <tr>\n",
       "      <th>75%</th>\n",
       "      <td>7.269235e+05</td>\n",
       "      <td>21875.000000</td>\n",
       "      <td>10912.000000</td>\n",
       "      <td>53385.000000</td>\n",
       "      <td>38896.500000</td>\n",
       "      <td>3627.750000</td>\n",
       "      <td>25842.000000</td>\n",
       "      <td>103580.250000</td>\n",
       "      <td>1562.500000</td>\n",
       "      <td>226.500000</td>\n",
       "    </tr>\n",
       "    <tr>\n",
       "      <th>max</th>\n",
       "      <td>2.460555e+06</td>\n",
       "      <td>41644.000000</td>\n",
       "      <td>18774.000000</td>\n",
       "      <td>137358.000000</td>\n",
       "      <td>40726.000000</td>\n",
       "      <td>7148.000000</td>\n",
       "      <td>33497.000000</td>\n",
       "      <td>183571.000000</td>\n",
       "      <td>4281.000000</td>\n",
       "      <td>771.000000</td>\n",
       "    </tr>\n",
       "  </tbody>\n",
       "</table>\n",
       "</div>"
      ],
      "text/plain": [
       "       total_cas_confirmes  total_deces_hopital  total_deces_ehpad  \\\n",
       "count         2.790000e+02           279.000000         249.000000   \n",
       "mean          5.901069e+05         19302.075269       10917.895582   \n",
       "std           7.493570e+05          9633.787722        3050.378736   \n",
       "min           1.910000e+02             3.000000         371.000000   \n",
       "25%           1.392910e+05         16731.000000       10350.000000   \n",
       "50%           1.838040e+05         19708.000000       10511.000000   \n",
       "75%           7.269235e+05         21875.000000       10912.000000   \n",
       "max           2.460555e+06         41644.000000       18774.000000   \n",
       "\n",
       "       total_cas_confirmes_ehpad  total_cas_possibles_ehpad  \\\n",
       "count                 237.000000                  15.000000   \n",
       "mean                53694.827004               35228.000000   \n",
       "std                 30073.365516                5673.218474   \n",
       "min                 11958.000000               25230.000000   \n",
       "25%                 37599.000000               32238.500000   \n",
       "50%                 39930.000000               37379.000000   \n",
       "75%                 53385.000000               38896.500000   \n",
       "max                137358.000000               40726.000000   \n",
       "\n",
       "       patients_reanimation  patients_hospitalises  total_patients_gueris  \\\n",
       "count            272.000000             264.000000             264.000000   \n",
       "mean            2259.977941           15905.087121           84996.537879   \n",
       "std             1918.351610            9990.378497           43109.238650   \n",
       "min               15.000000             400.000000              12.000000   \n",
       "25%              630.250000            6402.750000           63732.000000   \n",
       "50%             1513.000000           12587.500000           82565.000000   \n",
       "75%             3627.750000           25842.000000          103580.250000   \n",
       "max             7148.000000           33497.000000          183571.000000   \n",
       "\n",
       "       nouveaux_patients_hospitalises  nouveaux_patients_reanimation  \n",
       "count                      259.000000                     259.000000  \n",
       "mean                      1019.567568                     159.239382  \n",
       "std                       1007.977243                     170.077743  \n",
       "min                         23.000000                       2.000000  \n",
       "25%                        170.500000                      25.000000  \n",
       "50%                        649.000000                     101.000000  \n",
       "75%                       1562.500000                     226.500000  \n",
       "max                       4281.000000                     771.000000  "
      ]
     },
     "execution_count": 54,
     "metadata": {},
     "output_type": "execute_result"
    }
   ],
   "source": [
    "data_fra.describe()"
   ]
  },
  {
   "cell_type": "code",
   "execution_count": 55,
   "metadata": {},
   "outputs": [
    {
     "data": {
      "text/plain": [
       "(279, 11)"
      ]
     },
     "execution_count": 55,
     "metadata": {},
     "output_type": "execute_result"
    }
   ],
   "source": [
    "data_fra.shape"
   ]
  },
  {
   "cell_type": "markdown",
   "metadata": {},
   "source": [
    "#### Mise en forme des données ####"
   ]
  },
  {
   "cell_type": "code",
   "execution_count": 56,
   "metadata": {},
   "outputs": [],
   "source": [
    "# Sélection des colonnes utiles\n",
    "data_fra = data_fra.drop(['total_cas_confirmes', 'total_cas_confirmes_ehpad',\n",
    "       'total_cas_possibles_ehpad', 'patients_reanimation',\n",
    "       'patients_hospitalises',\n",
    "       'nouveaux_patients_reanimation'], axis=1)\n",
    "\n",
    "# Mise en forme de la date\n",
    "data_fra['date'] = pd.to_datetime(data_fra['date'])\n",
    "data_fra = data_fra.set_index('date')\n",
    "data_fra = data_fra.sort_index()\n",
    "\n",
    "# Remplacement des valeurs 'NaN'\n",
    "data_fra[\"total_deces_hopital\"] = data_fra[\"total_deces_hopital\"].fillna(method='bfill')\n",
    "data_fra[\"total_deces_ehpad\"] = data_fra[\"total_deces_ehpad\"].fillna(method='bfill')\n",
    "data_fra[\"total_patients_gueris\"] = data_fra[\"total_patients_gueris\"].fillna(method='bfill')\n",
    "data_fra[\"nouveaux_patients_hospitalises\"] = data_fra[\"nouveaux_patients_hospitalises\"].fillna(0)\n",
    "\n",
    "# Calcul des valeurs d'intérêt\n",
    "data_fra[\"R_SIR\"] = data_fra[[\"total_deces_hopital\", \"total_deces_ehpad\", \"total_patients_gueris\"]].sum(axis=1)\n",
    "data_fra[\"I_SEIR\"] = data_fra[\"nouveaux_patients_hospitalises\"].rolling(min_periods=1, window=15).sum()\n",
    "data_fra[\"D_SEIRD\"] = data_fra[[\"total_deces_hopital\", \"total_deces_ehpad\"]].sum(axis=1)\n",
    "\n",
    "data_fra = data_fra.drop([\"total_deces_hopital\", \"total_deces_ehpad\", \"total_patients_gueris\", \"nouveaux_patients_hospitalises\"], axis=1)"
   ]
  },
  {
   "cell_type": "code",
   "execution_count": 57,
   "metadata": {},
   "outputs": [],
   "source": [
    "from datetime import *\n",
    "date_debut = datetime(2020,1,15)\n",
    "data_fra[\"jour\"] = (data_fra.index-date_debut).days.astype(np.int)"
   ]
  },
  {
   "cell_type": "code",
   "execution_count": 58,
   "metadata": {},
   "outputs": [
    {
     "data": {
      "text/html": [
       "<div>\n",
       "<style scoped>\n",
       "    .dataframe tbody tr th:only-of-type {\n",
       "        vertical-align: middle;\n",
       "    }\n",
       "\n",
       "    .dataframe tbody tr th {\n",
       "        vertical-align: top;\n",
       "    }\n",
       "\n",
       "    .dataframe thead th {\n",
       "        text-align: right;\n",
       "    }\n",
       "</style>\n",
       "<table border=\"1\" class=\"dataframe\">\n",
       "  <thead>\n",
       "    <tr style=\"text-align: right;\">\n",
       "      <th></th>\n",
       "      <th>R_SIR</th>\n",
       "      <th>I_SEIR</th>\n",
       "      <th>D_SEIRD</th>\n",
       "      <th>jour</th>\n",
       "    </tr>\n",
       "    <tr>\n",
       "      <th>date</th>\n",
       "      <th></th>\n",
       "      <th></th>\n",
       "      <th></th>\n",
       "      <th></th>\n",
       "    </tr>\n",
       "  </thead>\n",
       "  <tbody>\n",
       "    <tr>\n",
       "      <th>2020-03-02</th>\n",
       "      <td>386.0</td>\n",
       "      <td>0.0</td>\n",
       "      <td>374.0</td>\n",
       "      <td>47</td>\n",
       "    </tr>\n",
       "    <tr>\n",
       "      <th>2020-03-03</th>\n",
       "      <td>387.0</td>\n",
       "      <td>0.0</td>\n",
       "      <td>375.0</td>\n",
       "      <td>48</td>\n",
       "    </tr>\n",
       "    <tr>\n",
       "      <th>2020-03-04</th>\n",
       "      <td>977.0</td>\n",
       "      <td>0.0</td>\n",
       "      <td>375.0</td>\n",
       "      <td>49</td>\n",
       "    </tr>\n",
       "    <tr>\n",
       "      <th>2020-03-05</th>\n",
       "      <td>980.0</td>\n",
       "      <td>0.0</td>\n",
       "      <td>378.0</td>\n",
       "      <td>50</td>\n",
       "    </tr>\n",
       "    <tr>\n",
       "      <th>2020-03-06</th>\n",
       "      <td>982.0</td>\n",
       "      <td>0.0</td>\n",
       "      <td>380.0</td>\n",
       "      <td>51</td>\n",
       "    </tr>\n",
       "  </tbody>\n",
       "</table>\n",
       "</div>"
      ],
      "text/plain": [
       "            R_SIR  I_SEIR  D_SEIRD  jour\n",
       "date                                    \n",
       "2020-03-02  386.0     0.0    374.0    47\n",
       "2020-03-03  387.0     0.0    375.0    48\n",
       "2020-03-04  977.0     0.0    375.0    49\n",
       "2020-03-05  980.0     0.0    378.0    50\n",
       "2020-03-06  982.0     0.0    380.0    51"
      ]
     },
     "execution_count": 58,
     "metadata": {},
     "output_type": "execute_result"
    }
   ],
   "source": [
    "data_fra.head()"
   ]
  },
  {
   "cell_type": "code",
   "execution_count": 59,
   "metadata": {},
   "outputs": [
    {
     "data": {
      "image/png": "[encoded data removed]",
      "text/plain": [
       "<Figure size 864x432 with 1 Axes>"
      ]
     },
     "metadata": {
      "needs_background": "light"
     },
     "output_type": "display_data"
    }
   ],
   "source": [
    "### Tracé de R (modèle SIR)\n",
    "\n",
    "data_fra[\"R_SIR\"].plot(figsize=(12,6))\n",
    "plt.title(\"Décès + rémissions en France\")\n",
    "plt.xlabel(\"t\")\n",
    "plt.ylabel(\"R(t)\")\n",
    "plt.legend()\n",
    "\n",
    "plt.show()"
   ]
  },
  {
   "cell_type": "code",
   "execution_count": 60,
   "metadata": {},
   "outputs": [
    {
     "data": {
      "image/png": "[encoded data removed]",
      "text/plain": [
       "<Figure size 864x432 with 1 Axes>"
      ]
     },
     "metadata": {
      "needs_background": "light"
     },
     "output_type": "display_data"
    }
   ],
   "source": [
    "### Tracé de I (modèle SEIR)\n",
    "\n",
    "data_fra[\"I_SEIR\"].plot(figsize=(12,6))\n",
    "plt.title(\"Hospitalisations en France\")\n",
    "plt.xlabel(\"t\")\n",
    "plt.ylabel(\"R(t)\")\n",
    "plt.legend()\n",
    "\n",
    "plt.show()"
   ]
  },
  {
   "cell_type": "code",
   "execution_count": 61,
   "metadata": {},
   "outputs": [
    {
     "data": {
      "image/png": "[encoded data removed]",
      "text/plain": [
       "<Figure size 864x432 with 1 Axes>"
      ]
     },
     "metadata": {
      "needs_background": "light"
     },
     "output_type": "display_data"
    }
   ],
   "source": [
    "### Tracé de D (modèle SEIRD)\n",
    "\n",
    "data_fra[\"D_SEIRD\"].plot(figsize=(12,6))\n",
    "plt.title(\"Décès en France\")\n",
    "plt.xlabel(\"t\")\n",
    "plt.ylabel(\"D(t)\")\n",
    "plt.legend()\n",
    "\n",
    "plt.show()"
   ]
  },
  {
   "cell_type": "markdown",
   "metadata": {},
   "source": [
    "#### Séparation des vagues ####"
   ]
  },
  {
   "cell_type": "code",
   "execution_count": 62,
   "metadata": {},
   "outputs": [],
   "source": [
    "data_fra_v1 = data_fra[\"2020-03-01\":\"2020-06-01\"]\n",
    "data_fra_v2 = data_fra[\"2020-08-01\":\"2021-01-01\"]"
   ]
  },
  {
   "cell_type": "code",
   "execution_count": 63,
   "metadata": {},
   "outputs": [
    {
     "data": {
      "image/png": "[encoded data removed]",
      "text/plain": [
       "<Figure size 864x432 with 1 Axes>"
      ]
     },
     "metadata": {
      "needs_background": "light"
     },
     "output_type": "display_data"
    }
   ],
   "source": [
    "data_fra_v1[\"R_SIR\"].plot(figsize=(12,6))\n",
    "plt.title(\"Décès + rémissions cumulés en France, 1ère vague\")\n",
    "plt.xlabel(\"t\")\n",
    "plt.ylabel(\"R(t)\")\n",
    "plt.legend()\n",
    "\n",
    "plt.show()"
   ]
  },
  {
   "cell_type": "code",
   "execution_count": 64,
   "metadata": {},
   "outputs": [
    {
     "data": {
      "image/png": "[encoded data removed]",
      "text/plain": [
       "<Figure size 864x432 with 1 Axes>"
      ]
     },
     "metadata": {
      "needs_background": "light"
     },
     "output_type": "display_data"
    }
   ],
   "source": [
    "data_fra_v2[\"R_SIR\"].plot(figsize=(12,6))\n",
    "plt.title(\"Décès + rémissions cumulés en France, 2ème vague\")\n",
    "plt.xlabel(\"t\")\n",
    "plt.ylabel(\"R(t)\")\n",
    "plt.legend()\n",
    "\n",
    "plt.show()"
   ]
  },
  {
   "cell_type": "markdown",
   "metadata": {},
   "source": [
    "### 3.2) Données internationales ###"
   ]
  },
  {
   "cell_type": "markdown",
   "metadata": {},
   "source": [
    "#### Exploration des données ####"
   ]
  },
  {
   "cell_type": "code",
   "execution_count": 65,
   "metadata": {},
   "outputs": [],
   "source": [
    "### Récupération des données\n",
    "\n",
    "data_int = pd.read_csv(\"data-inter.csv\")"
   ]
  },
  {
   "cell_type": "code",
   "execution_count": 66,
   "metadata": {},
   "outputs": [
    {
     "data": {
      "text/html": [
       "<div>\n",
       "<style scoped>\n",
       "    .dataframe tbody tr th:only-of-type {\n",
       "        vertical-align: middle;\n",
       "    }\n",
       "\n",
       "    .dataframe tbody tr th {\n",
       "        vertical-align: top;\n",
       "    }\n",
       "\n",
       "    .dataframe thead th {\n",
       "        text-align: right;\n",
       "    }\n",
       "</style>\n",
       "<table border=\"1\" class=\"dataframe\">\n",
       "  <thead>\n",
       "    <tr style=\"text-align: right;\">\n",
       "      <th></th>\n",
       "      <th>dateRep</th>\n",
       "      <th>year_week</th>\n",
       "      <th>cases_weekly</th>\n",
       "      <th>deaths_weekly</th>\n",
       "      <th>countriesAndTerritories</th>\n",
       "      <th>geoId</th>\n",
       "      <th>countryterritoryCode</th>\n",
       "      <th>popData2019</th>\n",
       "      <th>continentExp</th>\n",
       "      <th>notification_rate_per_100000_population_14-days</th>\n",
       "    </tr>\n",
       "  </thead>\n",
       "  <tbody>\n",
       "    <tr>\n",
       "      <th>0</th>\n",
       "      <td>14/12/2020</td>\n",
       "      <td>2020-50</td>\n",
       "      <td>1757</td>\n",
       "      <td>71</td>\n",
       "      <td>Afghanistan</td>\n",
       "      <td>AF</td>\n",
       "      <td>AFG</td>\n",
       "      <td>38041757.0</td>\n",
       "      <td>Asia</td>\n",
       "      <td>9.01</td>\n",
       "    </tr>\n",
       "    <tr>\n",
       "      <th>1</th>\n",
       "      <td>07/12/2020</td>\n",
       "      <td>2020-49</td>\n",
       "      <td>1672</td>\n",
       "      <td>137</td>\n",
       "      <td>Afghanistan</td>\n",
       "      <td>AF</td>\n",
       "      <td>AFG</td>\n",
       "      <td>38041757.0</td>\n",
       "      <td>Asia</td>\n",
       "      <td>7.22</td>\n",
       "    </tr>\n",
       "    <tr>\n",
       "      <th>2</th>\n",
       "      <td>30/11/2020</td>\n",
       "      <td>2020-48</td>\n",
       "      <td>1073</td>\n",
       "      <td>68</td>\n",
       "      <td>Afghanistan</td>\n",
       "      <td>AF</td>\n",
       "      <td>AFG</td>\n",
       "      <td>38041757.0</td>\n",
       "      <td>Asia</td>\n",
       "      <td>6.42</td>\n",
       "    </tr>\n",
       "    <tr>\n",
       "      <th>3</th>\n",
       "      <td>23/11/2020</td>\n",
       "      <td>2020-47</td>\n",
       "      <td>1368</td>\n",
       "      <td>69</td>\n",
       "      <td>Afghanistan</td>\n",
       "      <td>AF</td>\n",
       "      <td>AFG</td>\n",
       "      <td>38041757.0</td>\n",
       "      <td>Asia</td>\n",
       "      <td>6.66</td>\n",
       "    </tr>\n",
       "    <tr>\n",
       "      <th>4</th>\n",
       "      <td>16/11/2020</td>\n",
       "      <td>2020-46</td>\n",
       "      <td>1164</td>\n",
       "      <td>61</td>\n",
       "      <td>Afghanistan</td>\n",
       "      <td>AF</td>\n",
       "      <td>AFG</td>\n",
       "      <td>38041757.0</td>\n",
       "      <td>Asia</td>\n",
       "      <td>4.65</td>\n",
       "    </tr>\n",
       "  </tbody>\n",
       "</table>\n",
       "</div>"
      ],
      "text/plain": [
       "      dateRep year_week  cases_weekly  deaths_weekly countriesAndTerritories  \\\n",
       "0  14/12/2020   2020-50          1757             71             Afghanistan   \n",
       "1  07/12/2020   2020-49          1672            137             Afghanistan   \n",
       "2  30/11/2020   2020-48          1073             68             Afghanistan   \n",
       "3  23/11/2020   2020-47          1368             69             Afghanistan   \n",
       "4  16/11/2020   2020-46          1164             61             Afghanistan   \n",
       "\n",
       "  geoId countryterritoryCode  popData2019 continentExp  \\\n",
       "0    AF                  AFG   38041757.0         Asia   \n",
       "1    AF                  AFG   38041757.0         Asia   \n",
       "2    AF                  AFG   38041757.0         Asia   \n",
       "3    AF                  AFG   38041757.0         Asia   \n",
       "4    AF                  AFG   38041757.0         Asia   \n",
       "\n",
       "   notification_rate_per_100000_population_14-days  \n",
       "0                                             9.01  \n",
       "1                                             7.22  \n",
       "2                                             6.42  \n",
       "3                                             6.66  \n",
       "4                                             4.65  "
      ]
     },
     "execution_count": 66,
     "metadata": {},
     "output_type": "execute_result"
    }
   ],
   "source": [
    "data_int.head()"
   ]
  },
  {
   "cell_type": "code",
   "execution_count": 67,
   "metadata": {},
   "outputs": [
    {
     "data": {
      "text/plain": [
       "Index(['dateRep', 'year_week', 'cases_weekly', 'deaths_weekly',\n",
       "       'countriesAndTerritories', 'geoId', 'countryterritoryCode',\n",
       "       'popData2019', 'continentExp',\n",
       "       'notification_rate_per_100000_population_14-days'],\n",
       "      dtype='object')"
      ]
     },
     "execution_count": 67,
     "metadata": {},
     "output_type": "execute_result"
    }
   ],
   "source": [
    "data_int.columns"
   ]
  },
  {
   "cell_type": "code",
   "execution_count": 68,
   "metadata": {},
   "outputs": [
    {
     "data": {
      "text/html": [
       "<div>\n",
       "<style scoped>\n",
       "    .dataframe tbody tr th:only-of-type {\n",
       "        vertical-align: middle;\n",
       "    }\n",
       "\n",
       "    .dataframe tbody tr th {\n",
       "        vertical-align: top;\n",
       "    }\n",
       "\n",
       "    .dataframe thead th {\n",
       "        text-align: right;\n",
       "    }\n",
       "</style>\n",
       "<table border=\"1\" class=\"dataframe\">\n",
       "  <thead>\n",
       "    <tr style=\"text-align: right;\">\n",
       "      <th></th>\n",
       "      <th>cases_weekly</th>\n",
       "      <th>deaths_weekly</th>\n",
       "      <th>popData2019</th>\n",
       "      <th>notification_rate_per_100000_population_14-days</th>\n",
       "    </tr>\n",
       "  </thead>\n",
       "  <tbody>\n",
       "    <tr>\n",
       "      <th>count</th>\n",
       "      <td>8.938000e+03</td>\n",
       "      <td>8938.000000</td>\n",
       "      <td>8.920000e+03</td>\n",
       "      <td>8708.000000</td>\n",
       "    </tr>\n",
       "    <tr>\n",
       "      <th>mean</th>\n",
       "      <td>8.005596e+03</td>\n",
       "      <td>180.540501</td>\n",
       "      <td>4.083927e+07</td>\n",
       "      <td>66.424110</td>\n",
       "    </tr>\n",
       "    <tr>\n",
       "      <th>std</th>\n",
       "      <td>4.647885e+04</td>\n",
       "      <td>843.452416</td>\n",
       "      <td>1.525037e+08</td>\n",
       "      <td>163.859423</td>\n",
       "    </tr>\n",
       "    <tr>\n",
       "      <th>min</th>\n",
       "      <td>-3.864000e+03</td>\n",
       "      <td>-875.000000</td>\n",
       "      <td>8.150000e+02</td>\n",
       "      <td>-132.600000</td>\n",
       "    </tr>\n",
       "    <tr>\n",
       "      <th>25%</th>\n",
       "      <td>6.000000e+00</td>\n",
       "      <td>0.000000</td>\n",
       "      <td>1.293120e+06</td>\n",
       "      <td>0.687500</td>\n",
       "    </tr>\n",
       "    <tr>\n",
       "      <th>50%</th>\n",
       "      <td>1.440000e+02</td>\n",
       "      <td>2.000000</td>\n",
       "      <td>7.169456e+06</td>\n",
       "      <td>6.530000</td>\n",
       "    </tr>\n",
       "    <tr>\n",
       "      <th>75%</th>\n",
       "      <td>1.982750e+03</td>\n",
       "      <td>31.000000</td>\n",
       "      <td>2.851583e+07</td>\n",
       "      <td>51.427500</td>\n",
       "    </tr>\n",
       "    <tr>\n",
       "      <th>max</th>\n",
       "      <td>1.499756e+06</td>\n",
       "      <td>18574.000000</td>\n",
       "      <td>1.433784e+09</td>\n",
       "      <td>1900.840000</td>\n",
       "    </tr>\n",
       "  </tbody>\n",
       "</table>\n",
       "</div>"
      ],
      "text/plain": [
       "       cases_weekly  deaths_weekly   popData2019  \\\n",
       "count  8.938000e+03    8938.000000  8.920000e+03   \n",
       "mean   8.005596e+03     180.540501  4.083927e+07   \n",
       "std    4.647885e+04     843.452416  1.525037e+08   \n",
       "min   -3.864000e+03    -875.000000  8.150000e+02   \n",
       "25%    6.000000e+00       0.000000  1.293120e+06   \n",
       "50%    1.440000e+02       2.000000  7.169456e+06   \n",
       "75%    1.982750e+03      31.000000  2.851583e+07   \n",
       "max    1.499756e+06   18574.000000  1.433784e+09   \n",
       "\n",
       "       notification_rate_per_100000_population_14-days  \n",
       "count                                      8708.000000  \n",
       "mean                                         66.424110  \n",
       "std                                         163.859423  \n",
       "min                                        -132.600000  \n",
       "25%                                           0.687500  \n",
       "50%                                           6.530000  \n",
       "75%                                          51.427500  \n",
       "max                                        1900.840000  "
      ]
     },
     "execution_count": 68,
     "metadata": {},
     "output_type": "execute_result"
    }
   ],
   "source": [
    "data_int.describe()"
   ]
  },
  {
   "cell_type": "code",
   "execution_count": 69,
   "metadata": {},
   "outputs": [
    {
     "data": {
      "text/plain": [
       "(8938, 10)"
      ]
     },
     "execution_count": 69,
     "metadata": {},
     "output_type": "execute_result"
    }
   ],
   "source": [
    "data_int.shape"
   ]
  },
  {
   "cell_type": "markdown",
   "metadata": {},
   "source": [
    "#### Gestion des outliers ####"
   ]
  },
  {
   "cell_type": "code",
   "execution_count": 70,
   "metadata": {},
   "outputs": [
    {
     "data": {
      "text/html": [
       "<div>\n",
       "<style scoped>\n",
       "    .dataframe tbody tr th:only-of-type {\n",
       "        vertical-align: middle;\n",
       "    }\n",
       "\n",
       "    .dataframe tbody tr th {\n",
       "        vertical-align: top;\n",
       "    }\n",
       "\n",
       "    .dataframe thead th {\n",
       "        text-align: right;\n",
       "    }\n",
       "</style>\n",
       "<table border=\"1\" class=\"dataframe\">\n",
       "  <thead>\n",
       "    <tr style=\"text-align: right;\">\n",
       "      <th></th>\n",
       "      <th>dateRep</th>\n",
       "      <th>year_week</th>\n",
       "      <th>cases_weekly</th>\n",
       "      <th>deaths_weekly</th>\n",
       "      <th>countriesAndTerritories</th>\n",
       "      <th>geoId</th>\n",
       "      <th>countryterritoryCode</th>\n",
       "      <th>popData2019</th>\n",
       "      <th>continentExp</th>\n",
       "      <th>notification_rate_per_100000_population_14-days</th>\n",
       "    </tr>\n",
       "  </thead>\n",
       "  <tbody>\n",
       "    <tr>\n",
       "      <th>913</th>\n",
       "      <td>25/05/2020</td>\n",
       "      <td>2020-21</td>\n",
       "      <td>-148</td>\n",
       "      <td>1</td>\n",
       "      <td>Benin</td>\n",
       "      <td>BJ</td>\n",
       "      <td>BEN</td>\n",
       "      <td>11801151.0</td>\n",
       "      <td>Africa</td>\n",
       "      <td>-1.08</td>\n",
       "    </tr>\n",
       "    <tr>\n",
       "      <th>2441</th>\n",
       "      <td>07/09/2020</td>\n",
       "      <td>2020-36</td>\n",
       "      <td>-3864</td>\n",
       "      <td>3969</td>\n",
       "      <td>Ecuador</td>\n",
       "      <td>EC</td>\n",
       "      <td>ECU</td>\n",
       "      <td>17373657.0</td>\n",
       "      <td>America</td>\n",
       "      <td>11.60</td>\n",
       "    </tr>\n",
       "    <tr>\n",
       "      <th>4354</th>\n",
       "      <td>14/09/2020</td>\n",
       "      <td>2020-37</td>\n",
       "      <td>-4</td>\n",
       "      <td>0</td>\n",
       "      <td>Jersey</td>\n",
       "      <td>JE</td>\n",
       "      <td>JEY</td>\n",
       "      <td>107796.0</td>\n",
       "      <td>Europe</td>\n",
       "      <td>5.57</td>\n",
       "    </tr>\n",
       "    <tr>\n",
       "      <th>4400</th>\n",
       "      <td>27/07/2020</td>\n",
       "      <td>2020-30</td>\n",
       "      <td>-50</td>\n",
       "      <td>0</td>\n",
       "      <td>Jordan</td>\n",
       "      <td>JO</td>\n",
       "      <td>JOR</td>\n",
       "      <td>10101697.0</td>\n",
       "      <td>Asia</td>\n",
       "      <td>-0.11</td>\n",
       "    </tr>\n",
       "    <tr>\n",
       "      <th>4606</th>\n",
       "      <td>24/08/2020</td>\n",
       "      <td>2020-34</td>\n",
       "      <td>1135</td>\n",
       "      <td>-439</td>\n",
       "      <td>Kyrgyzstan</td>\n",
       "      <td>KG</td>\n",
       "      <td>KGZ</td>\n",
       "      <td>6415851.0</td>\n",
       "      <td>Asia</td>\n",
       "      <td>45.96</td>\n",
       "    </tr>\n",
       "    <tr>\n",
       "      <th>4938</th>\n",
       "      <td>04/05/2020</td>\n",
       "      <td>2020-18</td>\n",
       "      <td>-28</td>\n",
       "      <td>5</td>\n",
       "      <td>Lithuania</td>\n",
       "      <td>LT</td>\n",
       "      <td>LTU</td>\n",
       "      <td>2794184.0</td>\n",
       "      <td>Europe</td>\n",
       "      <td>3.01</td>\n",
       "    </tr>\n",
       "    <tr>\n",
       "      <th>4971</th>\n",
       "      <td>31/08/2020</td>\n",
       "      <td>2020-35</td>\n",
       "      <td>-1079</td>\n",
       "      <td>0</td>\n",
       "      <td>Luxembourg</td>\n",
       "      <td>LU</td>\n",
       "      <td>LUX</td>\n",
       "      <td>613894.0</td>\n",
       "      <td>Europe</td>\n",
       "      <td>-132.60</td>\n",
       "    </tr>\n",
       "    <tr>\n",
       "      <th>7641</th>\n",
       "      <td>25/05/2020</td>\n",
       "      <td>2020-21</td>\n",
       "      <td>3794</td>\n",
       "      <td>-875</td>\n",
       "      <td>Spain</td>\n",
       "      <td>ES</td>\n",
       "      <td>ESP</td>\n",
       "      <td>46937060.0</td>\n",
       "      <td>Europe</td>\n",
       "      <td>16.26</td>\n",
       "    </tr>\n",
       "    <tr>\n",
       "      <th>8329</th>\n",
       "      <td>25/05/2020</td>\n",
       "      <td>2020-21</td>\n",
       "      <td>-15</td>\n",
       "      <td>0</td>\n",
       "      <td>Uganda</td>\n",
       "      <td>UG</td>\n",
       "      <td>UGA</td>\n",
       "      <td>44269587.0</td>\n",
       "      <td>Africa</td>\n",
       "      <td>0.21</td>\n",
       "    </tr>\n",
       "  </tbody>\n",
       "</table>\n",
       "</div>"
      ],
      "text/plain": [
       "         dateRep year_week  cases_weekly  deaths_weekly  \\\n",
       "913   25/05/2020   2020-21          -148              1   \n",
       "2441  07/09/2020   2020-36         -3864           3969   \n",
       "4354  14/09/2020   2020-37            -4              0   \n",
       "4400  27/07/2020   2020-30           -50              0   \n",
       "4606  24/08/2020   2020-34          1135           -439   \n",
       "4938  04/05/2020   2020-18           -28              5   \n",
       "4971  31/08/2020   2020-35         -1079              0   \n",
       "7641  25/05/2020   2020-21          3794           -875   \n",
       "8329  25/05/2020   2020-21           -15              0   \n",
       "\n",
       "     countriesAndTerritories geoId countryterritoryCode  popData2019  \\\n",
       "913                    Benin    BJ                  BEN   11801151.0   \n",
       "2441                 Ecuador    EC                  ECU   17373657.0   \n",
       "4354                  Jersey    JE                  JEY     107796.0   \n",
       "4400                  Jordan    JO                  JOR   10101697.0   \n",
       "4606              Kyrgyzstan    KG                  KGZ    6415851.0   \n",
       "4938               Lithuania    LT                  LTU    2794184.0   \n",
       "4971              Luxembourg    LU                  LUX     613894.0   \n",
       "7641                   Spain    ES                  ESP   46937060.0   \n",
       "8329                  Uganda    UG                  UGA   44269587.0   \n",
       "\n",
       "     continentExp  notification_rate_per_100000_population_14-days  \n",
       "913        Africa                                            -1.08  \n",
       "2441      America                                            11.60  \n",
       "4354       Europe                                             5.57  \n",
       "4400         Asia                                            -0.11  \n",
       "4606         Asia                                            45.96  \n",
       "4938       Europe                                             3.01  \n",
       "4971       Europe                                          -132.60  \n",
       "7641       Europe                                            16.26  \n",
       "8329       Africa                                             0.21  "
      ]
     },
     "execution_count": 70,
     "metadata": {},
     "output_type": "execute_result"
    }
   ],
   "source": [
    "data_int[(data_int[\"cases_weekly\"] < 0) | (data_int[\"deaths_weekly\"] < 0)]"
   ]
  },
  {
   "cell_type": "code",
   "execution_count": 71,
   "metadata": {},
   "outputs": [],
   "source": [
    "### J'ai considéré que ces valeurs erronées ont juste été rentrées avec un signe '-' en trop\n",
    "\n",
    "data_int[\"cases_weekly\"] = data_int[\"cases_weekly\"].abs()\n",
    "data_int[\"deaths_weekly\"] = data_int[\"deaths_weekly\"].abs()"
   ]
  },
  {
   "cell_type": "markdown",
   "metadata": {},
   "source": [
    "#### Mise en forme des données ####"
   ]
  },
  {
   "cell_type": "code",
   "execution_count": 72,
   "metadata": {},
   "outputs": [],
   "source": [
    "# Regroupement par date et tri\n",
    "data_int[\"date\"] = pd.to_datetime(data_int['dateRep'], format=\"%d/%m/%Y\")\n",
    "data_int = data_int.groupby(['date']).sum()\n",
    "data_int = data_int.drop([\"popData2019\", \"notification_rate_per_100000_population_14-days\"], axis=1)\n",
    "data_int = data_int.sort_index(axis = 0, ascending = True)\n",
    "\n",
    "# Calcul des valeurs d'intérêt\n",
    "data_int[\"D_SEIRD\"] = data_int[\"deaths_weekly\"].cumsum()\n",
    "data_int[\"I_SEIR\"] = data_int[\"cases_weekly\"].rolling(min_periods=1, window=2).sum()\n",
    "\n",
    "data_int = data_int.drop([\"cases_weekly\", \"deaths_weekly\"], axis=1)"
   ]
  },
  {
   "cell_type": "code",
   "execution_count": 73,
   "metadata": {},
   "outputs": [
    {
     "data": {
      "text/html": [
       "<div>\n",
       "<style scoped>\n",
       "    .dataframe tbody tr th:only-of-type {\n",
       "        vertical-align: middle;\n",
       "    }\n",
       "\n",
       "    .dataframe tbody tr th {\n",
       "        vertical-align: top;\n",
       "    }\n",
       "\n",
       "    .dataframe thead th {\n",
       "        text-align: right;\n",
       "    }\n",
       "</style>\n",
       "<table border=\"1\" class=\"dataframe\">\n",
       "  <thead>\n",
       "    <tr style=\"text-align: right;\">\n",
       "      <th></th>\n",
       "      <th>D_SEIRD</th>\n",
       "      <th>I_SEIR</th>\n",
       "    </tr>\n",
       "    <tr>\n",
       "      <th>date</th>\n",
       "      <th></th>\n",
       "      <th></th>\n",
       "    </tr>\n",
       "  </thead>\n",
       "  <tbody>\n",
       "    <tr>\n",
       "      <th>2020-01-06</th>\n",
       "      <td>0</td>\n",
       "      <td>59.0</td>\n",
       "    </tr>\n",
       "    <tr>\n",
       "      <th>2020-01-13</th>\n",
       "      <td>1</td>\n",
       "      <td>60.0</td>\n",
       "    </tr>\n",
       "    <tr>\n",
       "      <th>2020-01-20</th>\n",
       "      <td>3</td>\n",
       "      <td>181.0</td>\n",
       "    </tr>\n",
       "    <tr>\n",
       "      <th>2020-01-27</th>\n",
       "      <td>81</td>\n",
       "      <td>2761.0</td>\n",
       "    </tr>\n",
       "    <tr>\n",
       "      <th>2020-02-03</th>\n",
       "      <td>362</td>\n",
       "      <td>17133.0</td>\n",
       "    </tr>\n",
       "  </tbody>\n",
       "</table>\n",
       "</div>"
      ],
      "text/plain": [
       "            D_SEIRD   I_SEIR\n",
       "date                        \n",
       "2020-01-06        0     59.0\n",
       "2020-01-13        1     60.0\n",
       "2020-01-20        3    181.0\n",
       "2020-01-27       81   2761.0\n",
       "2020-02-03      362  17133.0"
      ]
     },
     "execution_count": 73,
     "metadata": {},
     "output_type": "execute_result"
    }
   ],
   "source": [
    "data_int.head()"
   ]
  },
  {
   "cell_type": "code",
   "execution_count": 74,
   "metadata": {},
   "outputs": [
    {
     "data": {
      "image/png": "[encoded data removed]",
      "text/plain": [
       "<Figure size 864x432 with 1 Axes>"
      ]
     },
     "metadata": {
      "needs_background": "light"
     },
     "output_type": "display_data"
    }
   ],
   "source": [
    "### Tracé de I (modèle SEIR)\n",
    "\n",
    "data_int[\"I_SEIR\"].plot(figsize=(12,6))\n",
    "\n",
    "plt.title(\"Individus infectés dans le monde\")\n",
    "plt.xlabel(\"t\")\n",
    "plt.ylabel(\"D(t)\")\n",
    "plt.legend()\n",
    "\n",
    "plt.show()"
   ]
  },
  {
   "cell_type": "code",
   "execution_count": 75,
   "metadata": {},
   "outputs": [
    {
     "data": {
      "image/png": "[encoded data removed]",
      "text/plain": [
       "<Figure size 864x432 with 1 Axes>"
      ]
     },
     "metadata": {
      "needs_background": "light"
     },
     "output_type": "display_data"
    }
   ],
   "source": [
    "### Tracé de D (modèle SEIRD)\n",
    "\n",
    "data_int[\"D_SEIRD\"].plot(figsize=(12,6))\n",
    "plt.title(\"Décès dans le monde\")\n",
    "plt.xlabel(\"t\")\n",
    "plt.ylabel(\"D(t)\")\n",
    "plt.legend()\n",
    "\n",
    "plt.show()"
   ]
  },
  {
   "cell_type": "markdown",
   "metadata": {},
   "source": [
    "# <a id=\"fourth\"></a> 4. Identification des paramètres #"
   ]
  },
  {
   "cell_type": "markdown",
   "metadata": {},
   "source": [
    "### 4.1) Moindres carrés non linéaires ###"
   ]
  },
  {
   "cell_type": "markdown",
   "metadata": {},
   "source": [
    "#### Approximation de la jacobienne ####"
   ]
  },
  {
   "cell_type": "code",
   "execution_count": 76,
   "metadata": {},
   "outputs": [],
   "source": [
    "### Approximation de la jacobienne\n",
    "\n",
    "def jac(f, x, h=10**-5):\n",
    "    \n",
    "    # Dimensions (f : R^p -> R^n)\n",
    "    n = np.size(f(x))\n",
    "    p = np.size(x)\n",
    "    \n",
    "    # Initialisation\n",
    "    J = np.zeros((n, p))\n",
    "    \n",
    "    # Remplissage\n",
    "    for i in range(p):\n",
    "        J[:, i] = 1/h*(f(x + h*np.eye(p)[i]) - f(x))\n",
    "            \n",
    "    return(J)"
   ]
  },
  {
   "cell_type": "markdown",
   "metadata": {},
   "source": [
    "#### Algorithme de Gauss-Newton ####"
   ]
  },
  {
   "cell_type": "code",
   "execution_count": 77,
   "metadata": {},
   "outputs": [],
   "source": [
    "### Méthode de Gauss-Newton\n",
    "\n",
    "def Gauss_Newton(f, x0, n_iter):\n",
    "    \n",
    "    # Initialisation\n",
    "    k = 0\n",
    "    x = x0\n",
    "    \n",
    "    # Itérations\n",
    "    for k in range(n_iter):\n",
    "        A = np.dot(jac(f, x).T, jac(f, x))\n",
    "        B = np.dot(jac(f, x).T, f(x))\n",
    "        x = x - np.dot(np.linalg.inv(A), B)\n",
    "\n",
    "    return(x)"
   ]
  },
  {
   "cell_type": "markdown",
   "metadata": {},
   "source": [
    "#### Test avec le modèle SIR pour l'épidémie de peste de Bombay ####"
   ]
  },
  {
   "cell_type": "code",
   "execution_count": 78,
   "metadata": {},
   "outputs": [
    {
     "name": "stdout",
     "output_type": "stream",
     "text": [
      "[[    0     0]\n",
      " [    7     9]\n",
      " [   14    21]\n",
      " [   21    35]\n",
      " [   28    54]\n",
      " [   35    82]\n",
      " [   42   138]\n",
      " [   49   198]\n",
      " [   56   307]\n",
      " [   63   452]\n",
      " [   70   662]\n",
      " [   77   991]\n",
      " [   84  1447]\n",
      " [   91  1967]\n",
      " [   98  2724]\n",
      " [  105  3641]\n",
      " [  112  4467]\n",
      " [  119  5284]\n",
      " [  126  6308]\n",
      " [  133  7396]\n",
      " [  140  8340]\n",
      " [  147  9020]\n",
      " [  154  9495]\n",
      " [  161  9843]\n",
      " [  168 10034]\n",
      " [  175 10158]\n",
      " [  182 10234]\n",
      " [  189 10288]\n",
      " [  196 10329]\n",
      " [  203 10361]\n",
      " [  210 10394]]\n"
     ]
    }
   ],
   "source": [
    "### Données en jours\n",
    "\n",
    "print(data1)"
   ]
  },
  {
   "cell_type": "code",
   "execution_count": 79,
   "metadata": {},
   "outputs": [],
   "source": [
    "### Paramètres\n",
    "\n",
    "n = 2000\n",
    "T = 220\n",
    "P = 16961\n",
    "I0 = 1\n",
    "R0 = 0"
   ]
  },
  {
   "cell_type": "code",
   "execution_count": 80,
   "metadata": {},
   "outputs": [],
   "source": [
    "### Modèle utilisé\n",
    "\n",
    "modele = modele_SIR_R"
   ]
  },
  {
   "cell_type": "code",
   "execution_count": 81,
   "metadata": {},
   "outputs": [],
   "source": [
    "### Fonction d'interpolation\n",
    "\n",
    "from scipy.interpolate import interp1d"
   ]
  },
  {
   "cell_type": "code",
   "execution_count": 82,
   "metadata": {},
   "outputs": [],
   "source": [
    "### Fonction dont la norme est à optimiser\n",
    "\n",
    "def F_Bombay(x):\n",
    "    \n",
    "    n = 2000\n",
    "    T = 220\n",
    "    P = 16961\n",
    "    I0 = 1\n",
    "    R0 = 0\n",
    "    \n",
    "    # x = [gamma, beta]\n",
    "    p = [P, x[0], x[1], I0, R0]\n",
    "    t_RK4, R_RK4 = RK4(modele, 0, T, R0, n, p)\n",
    "    \n",
    "    # Interpolation des valeurs estimées\n",
    "    fR = interp1d(t_RK4, R_RK4)\n",
    "    \n",
    "    # Construction de la fonction comparant données et modèle\n",
    "    F = np.hstack([fR(data1[:, 0]) - data1[:, 1] ])\n",
    "        \n",
    "    return(F)"
   ]
  },
  {
   "cell_type": "code",
   "execution_count": 83,
   "metadata": {},
   "outputs": [],
   "source": [
    "### Optimisation par la méthode de Gauss-Newton\n",
    "\n",
    "# Initialisation x0 = [gamma0, beta0]\n",
    "x0 = np.array([0.3, 0.5])\n",
    "\n",
    "# Optimisation\n",
    "gamma_sim, beta_sim = Gauss_Newton(F_Bombay, x0, n_iter=10)"
   ]
  },
  {
   "cell_type": "code",
   "execution_count": 84,
   "metadata": {},
   "outputs": [
    {
     "name": "stdout",
     "output_type": "stream",
     "text": [
      "gamma estimé =  0.1393\n",
      "beta estimé =  0.2157\n"
     ]
    },
    {
     "data": {
      "image/png": "[encoded data removed]",
      "text/plain": [
       "<Figure size 432x288 with 1 Axes>"
      ]
     },
     "metadata": {
      "needs_background": "light"
     },
     "output_type": "display_data"
    }
   ],
   "source": [
    "### Visualisation des paramètres optimaux\n",
    "\n",
    "p = [P, gamma_sim, beta_sim, I0, R0]\n",
    "modele = modele_SIR_R\n",
    "schema = RK4(modele, 0, len(data)*7, R0, n, p)\n",
    "\n",
    "plt.plot(schema[0], schema[1], c=\"blue\", label=\"modèle\")\n",
    "plt.scatter(data1[:,0], data1[:,1], c=\"red\", label=\"données\")\n",
    "plt.title(\"Données Bombay : Gauss-Newton\")\n",
    "plt.xlabel(\"t (en jours)\")\n",
    "plt.ylabel(\"R(t)\")\n",
    "plt.legend()\n",
    "\n",
    "print(\"gamma estimé = \", round(gamma_sim, 4))\n",
    "print(\"beta estimé = \", round(beta_sim, 4))"
   ]
  },
  {
   "cell_type": "markdown",
   "metadata": {},
   "source": [
    "### 4.2) Aller plus loin ###"
   ]
  },
  {
   "cell_type": "markdown",
   "metadata": {},
   "source": [
    "#### a) Recherche linéaire et méthode de Levenberg-Marquardt ####"
   ]
  },
  {
   "cell_type": "code",
   "execution_count": 85,
   "metadata": {},
   "outputs": [],
   "source": [
    "### Données Bombay\n",
    "\n",
    "n = 2000\n",
    "T = 220\n",
    "P = 16961\n",
    "I0 = 1\n",
    "R0 = 0\n",
    "\n",
    "modele = modele_SIR_R"
   ]
  },
  {
   "cell_type": "markdown",
   "metadata": {},
   "source": [
    "#### Recherche linéaire ####"
   ]
  },
  {
   "cell_type": "code",
   "execution_count": 86,
   "metadata": {},
   "outputs": [],
   "source": [
    "### Recherche linéaire \n",
    "\n",
    "def recherche_lin(f, x0, n_iter):\n",
    "    \n",
    "    k = 0\n",
    "    x = x0\n",
    "    \n",
    "    for k in range(n_iter):\n",
    "\n",
    "        A = np.dot(jac(f, x).T, jac(f, x))\n",
    "        B = np.dot(jac(f, x).T, f(x))\n",
    "        d = - np.dot(np.linalg.inv(A), B)\n",
    "        \n",
    "        rho = 1\n",
    "        \n",
    "        while(np.linalg.norm(f(x+rho*d)) > np.linalg.norm(f(x))):\n",
    "            rho /= 10\n",
    "            \n",
    "        x = x + rho*d\n",
    "\n",
    "    return(x)"
   ]
  },
  {
   "cell_type": "code",
   "execution_count": 87,
   "metadata": {},
   "outputs": [],
   "source": [
    "### Optimisation par la méthode de recherche linéaire\n",
    "\n",
    "x0 = np.array([0.2, 0.3])\n",
    "gamma_sim, beta_sim = recherche_lin(F_Bombay, x0, n_iter=5)"
   ]
  },
  {
   "cell_type": "code",
   "execution_count": 88,
   "metadata": {},
   "outputs": [
    {
     "name": "stdout",
     "output_type": "stream",
     "text": [
      "gamma estimé =  0.1392\n",
      "beta estimé =  0.2157\n"
     ]
    },
    {
     "data": {
      "image/png": "[encoded data removed]",
      "text/plain": [
       "<Figure size 432x288 with 1 Axes>"
      ]
     },
     "metadata": {
      "needs_background": "light"
     },
     "output_type": "display_data"
    }
   ],
   "source": [
    "### Visualisation des paramètres optimaux\n",
    "\n",
    "p = [P, gamma_sim, beta_sim, I0, R0]\n",
    "modele = modele_SIR_R\n",
    "schema = RK4(modele, 0, len(data)*7, R0, n, p)\n",
    "\n",
    "plt.plot(schema[0], schema[1], c=\"blue\", label=\"modèle\")\n",
    "plt.scatter(data1[:,0], data1[:,1], c=\"red\", label=\"données\")\n",
    "plt.title(\"Données Bombay : Recherche linéaire\")\n",
    "plt.xlabel(\"t (en jours)\")\n",
    "plt.ylabel(\"R(t)\")\n",
    "plt.legend()\n",
    "\n",
    "print(\"gamma estimé = \", round(gamma_sim, 4))\n",
    "print(\"beta estimé = \", round(beta_sim, 4))"
   ]
  },
  {
   "cell_type": "markdown",
   "metadata": {},
   "source": [
    "#### Levenberg-Marquardt ####"
   ]
  },
  {
   "cell_type": "code",
   "execution_count": 89,
   "metadata": {},
   "outputs": [],
   "source": [
    "### Levenberg-Marquardt\n",
    "\n",
    "def Lev_Mar(f, x0, n_iter, lbd=10**-1):\n",
    "    \n",
    "    k = 0\n",
    "    x = x0\n",
    "    \n",
    "    for k in range(n_iter):\n",
    "\n",
    "        A = np.dot(jac(f, x).T, jac(f, x)) + lbd*np.eye(np.size(x))\n",
    "        B = np.dot(jac(f, x).T, f(x))\n",
    "        d = - np.dot(np.linalg.inv(A), B)\n",
    "        \n",
    "        rho = 1\n",
    "\n",
    "        while(np.linalg.norm(f(x+rho*d)) > np.linalg.norm(f(x))):\n",
    "            rho /= 10\n",
    "            \n",
    "        x = x + rho*d\n",
    "\n",
    "    return(x)"
   ]
  },
  {
   "cell_type": "code",
   "execution_count": 90,
   "metadata": {},
   "outputs": [],
   "source": [
    "### Optimisation par la méthode de Levenberg-Marquardt\n",
    "\n",
    "x0 = np.array([0.2, 0.3])\n",
    "gamma_sim, beta_sim = Lev_Mar(F_Bombay, x0, n_iter=5, lbd=10**-1)"
   ]
  },
  {
   "cell_type": "code",
   "execution_count": 91,
   "metadata": {},
   "outputs": [
    {
     "name": "stdout",
     "output_type": "stream",
     "text": [
      "gamma estimé =  0.1392\n",
      "beta estimé =  0.2157\n"
     ]
    },
    {
     "data": {
      "image/png": "[encoded data removed]",
      "text/plain": [
       "<Figure size 432x288 with 1 Axes>"
      ]
     },
     "metadata": {
      "needs_background": "light"
     },
     "output_type": "display_data"
    }
   ],
   "source": [
    "### Visualisation des paramètres optimaux\n",
    "\n",
    "p = [P, gamma_sim, beta_sim, I0, R0]\n",
    "modele = modele_SIR_R\n",
    "schema = RK4(modele, 0, len(data)*7, R0, n, p)\n",
    "\n",
    "plt.plot(schema[0], schema[1], c=\"blue\", label=\"modèle\")\n",
    "plt.scatter(data1[:,0], data1[:,1], c=\"red\", label=\"données\")\n",
    "plt.title(\"Données Bombay : Levenberg-Marquardt\")\n",
    "plt.xlabel(\"t (en jours)\")\n",
    "plt.ylabel(\"R(t)\")\n",
    "plt.legend()\n",
    "\n",
    "print(\"gamma estimé = \", round(gamma_sim, 4))\n",
    "print(\"beta estimé = \", round(beta_sim, 4))"
   ]
  },
  {
   "cell_type": "markdown",
   "metadata": {},
   "source": [
    "#### b) Identification des paramètres du modèle SIR pour la 1ère vague en France ####"
   ]
  },
  {
   "cell_type": "code",
   "execution_count": 92,
   "metadata": {},
   "outputs": [
    {
     "data": {
      "text/html": [
       "<div>\n",
       "<style scoped>\n",
       "    .dataframe tbody tr th:only-of-type {\n",
       "        vertical-align: middle;\n",
       "    }\n",
       "\n",
       "    .dataframe tbody tr th {\n",
       "        vertical-align: top;\n",
       "    }\n",
       "\n",
       "    .dataframe thead th {\n",
       "        text-align: right;\n",
       "    }\n",
       "</style>\n",
       "<table border=\"1\" class=\"dataframe\">\n",
       "  <thead>\n",
       "    <tr style=\"text-align: right;\">\n",
       "      <th></th>\n",
       "      <th>R_SIR</th>\n",
       "      <th>I_SEIR</th>\n",
       "      <th>D_SEIRD</th>\n",
       "      <th>jour</th>\n",
       "    </tr>\n",
       "    <tr>\n",
       "      <th>date</th>\n",
       "      <th></th>\n",
       "      <th></th>\n",
       "      <th></th>\n",
       "      <th></th>\n",
       "    </tr>\n",
       "  </thead>\n",
       "  <tbody>\n",
       "    <tr>\n",
       "      <th>2020-03-02</th>\n",
       "      <td>386.0</td>\n",
       "      <td>0.0</td>\n",
       "      <td>374.0</td>\n",
       "      <td>47</td>\n",
       "    </tr>\n",
       "    <tr>\n",
       "      <th>2020-03-03</th>\n",
       "      <td>387.0</td>\n",
       "      <td>0.0</td>\n",
       "      <td>375.0</td>\n",
       "      <td>48</td>\n",
       "    </tr>\n",
       "    <tr>\n",
       "      <th>2020-03-04</th>\n",
       "      <td>977.0</td>\n",
       "      <td>0.0</td>\n",
       "      <td>375.0</td>\n",
       "      <td>49</td>\n",
       "    </tr>\n",
       "    <tr>\n",
       "      <th>2020-03-05</th>\n",
       "      <td>980.0</td>\n",
       "      <td>0.0</td>\n",
       "      <td>378.0</td>\n",
       "      <td>50</td>\n",
       "    </tr>\n",
       "    <tr>\n",
       "      <th>2020-03-06</th>\n",
       "      <td>982.0</td>\n",
       "      <td>0.0</td>\n",
       "      <td>380.0</td>\n",
       "      <td>51</td>\n",
       "    </tr>\n",
       "  </tbody>\n",
       "</table>\n",
       "</div>"
      ],
      "text/plain": [
       "            R_SIR  I_SEIR  D_SEIRD  jour\n",
       "date                                    \n",
       "2020-03-02  386.0     0.0    374.0    47\n",
       "2020-03-03  387.0     0.0    375.0    48\n",
       "2020-03-04  977.0     0.0    375.0    49\n",
       "2020-03-05  980.0     0.0    378.0    50\n",
       "2020-03-06  982.0     0.0    380.0    51"
      ]
     },
     "execution_count": 92,
     "metadata": {},
     "output_type": "execute_result"
    }
   ],
   "source": [
    "data_fra_v1.head()"
   ]
  },
  {
   "cell_type": "code",
   "execution_count": 93,
   "metadata": {},
   "outputs": [],
   "source": [
    "### Paramètres\n",
    "\n",
    "n = 2000\n",
    "T = 200\n",
    "P = 120000\n",
    "I0 = 1\n",
    "R0 = 0"
   ]
  },
  {
   "cell_type": "code",
   "execution_count": 94,
   "metadata": {},
   "outputs": [],
   "source": [
    "### Modèle utilisé\n",
    "\n",
    "modele = modele_SIR_R"
   ]
  },
  {
   "cell_type": "code",
   "execution_count": 95,
   "metadata": {},
   "outputs": [],
   "source": [
    "def F_fra_SIR_v1(x):\n",
    "    \n",
    "    # x = [gamma, beta]\n",
    "    p = [P, x[0], x[1], I0, R0]\n",
    "    t_RK4, R_RK4 = RK4(modele, 0, T, R0, n, p)\n",
    "    \n",
    "    # Interpolation des valeurs estimées\n",
    "    fR = interp1d(t_RK4, R_RK4)\n",
    "    \n",
    "    # Construction de la fonction comparant données et modèle\n",
    "    F = np.hstack([fR(data_fra_v1[\"jour\"]) - data_fra_v1[\"R_SIR\"] ])\n",
    "    \n",
    "    return(F)"
   ]
  },
  {
   "cell_type": "code",
   "execution_count": 96,
   "metadata": {},
   "outputs": [],
   "source": [
    "# Initialisation x0 = [gamma0, beta0]\n",
    "x0 = np.array([0.2, 0.3])\n",
    "\n",
    "# Optimisation\n",
    "gamma_sim, beta_sim = Lev_Mar(F_fra_SIR_v1, x0, n_iter=10)"
   ]
  },
  {
   "cell_type": "code",
   "execution_count": 97,
   "metadata": {},
   "outputs": [
    {
     "name": "stdout",
     "output_type": "stream",
     "text": [
      "gamma estimé =  0.1292\n",
      "beta estimé =  0.2591\n"
     ]
    },
    {
     "data": {
      "image/png": "[encoded data removed]",
      "text/plain": [
       "<Figure size 432x288 with 1 Axes>"
      ]
     },
     "metadata": {
      "needs_background": "light"
     },
     "output_type": "display_data"
    }
   ],
   "source": [
    "### Visualisation des paramètres optimaux\n",
    "\n",
    "p = [P, gamma_sim, beta_sim, I0, R0]\n",
    "modele = modele_SIR_R\n",
    "schema = RK4(modele, 0, T, R0, n, p)\n",
    "\n",
    "plt.plot(schema[0][450:1500], schema[1][450:1500], c=\"blue\", label=\"modèle\")\n",
    "plt.scatter(data_fra_v1[\"jour\"], data_fra_v1[\"R_SIR\"], c=\"red\", label=\"données\")\n",
    "plt.title(\"Données Covid France, 1ère vague\")\n",
    "plt.xlabel(\"t (en jours)\")\n",
    "plt.ylabel(\"R(t)\")\n",
    "plt.legend()\n",
    "\n",
    "print(\"gamma estimé = \", round(gamma_sim, 4))\n",
    "print(\"beta estimé = \", round(beta_sim, 4))"
   ]
  }
 ],
 "metadata": {
  "kernelspec": {
   "display_name": "Python 3",
   "language": "python",
   "name": "python3"
  },
  "language_info": {
   "codemirror_mode": {
    "name": "ipython",
    "version": 3
   },
   "file_extension": ".py",
   "mimetype": "text/x-python",
   "name": "python",
   "nbconvert_exporter": "python",
   "pygments_lexer": "ipython3",
   "version": "3.7.7"
  }
 },
 "nbformat": 4,
 "nbformat_minor": 4
}
